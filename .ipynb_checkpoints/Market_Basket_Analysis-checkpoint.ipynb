{
 "cells": [
  {
   "cell_type": "code",
   "execution_count": 1,
   "id": "f687f2a6",
   "metadata": {},
   "outputs": [],
   "source": [
    "import numpy as np\n",
    "import pandas as pd\n",
    "import matplotlib.pyplot as plt\n",
    "import seaborn as sns\n",
    "from mlxtend.frequent_patterns import apriori, association_rules \n",
    "import warnings\n",
    "warnings.filterwarnings('ignore')"
   ]
  },
  {
   "cell_type": "code",
   "execution_count": 2,
   "id": "c0cce528",
   "metadata": {},
   "outputs": [
    {
     "data": {
      "text/html": [
       "<div>\n",
       "<style scoped>\n",
       "    .dataframe tbody tr th:only-of-type {\n",
       "        vertical-align: middle;\n",
       "    }\n",
       "\n",
       "    .dataframe tbody tr th {\n",
       "        vertical-align: top;\n",
       "    }\n",
       "\n",
       "    .dataframe thead th {\n",
       "        text-align: right;\n",
       "    }\n",
       "</style>\n",
       "<table border=\"1\" class=\"dataframe\">\n",
       "  <thead>\n",
       "    <tr style=\"text-align: right;\">\n",
       "      <th></th>\n",
       "      <th>Unnamed: 0</th>\n",
       "      <th>Apple</th>\n",
       "      <th>Bread</th>\n",
       "      <th>Butter</th>\n",
       "      <th>Cheese</th>\n",
       "      <th>Corn</th>\n",
       "      <th>Dill</th>\n",
       "      <th>Eggs</th>\n",
       "      <th>Ice cream</th>\n",
       "      <th>Kidney Beans</th>\n",
       "      <th>Milk</th>\n",
       "      <th>Nutmeg</th>\n",
       "      <th>Onion</th>\n",
       "      <th>Sugar</th>\n",
       "      <th>Unicorn</th>\n",
       "      <th>Yogurt</th>\n",
       "      <th>chocolate</th>\n",
       "    </tr>\n",
       "  </thead>\n",
       "  <tbody>\n",
       "    <tr>\n",
       "      <th>0</th>\n",
       "      <td>0</td>\n",
       "      <td>False</td>\n",
       "      <td>True</td>\n",
       "      <td>False</td>\n",
       "      <td>False</td>\n",
       "      <td>True</td>\n",
       "      <td>True</td>\n",
       "      <td>False</td>\n",
       "      <td>True</td>\n",
       "      <td>False</td>\n",
       "      <td>False</td>\n",
       "      <td>False</td>\n",
       "      <td>False</td>\n",
       "      <td>True</td>\n",
       "      <td>False</td>\n",
       "      <td>True</td>\n",
       "      <td>True</td>\n",
       "    </tr>\n",
       "    <tr>\n",
       "      <th>1</th>\n",
       "      <td>1</td>\n",
       "      <td>False</td>\n",
       "      <td>False</td>\n",
       "      <td>False</td>\n",
       "      <td>False</td>\n",
       "      <td>False</td>\n",
       "      <td>False</td>\n",
       "      <td>False</td>\n",
       "      <td>False</td>\n",
       "      <td>False</td>\n",
       "      <td>True</td>\n",
       "      <td>False</td>\n",
       "      <td>False</td>\n",
       "      <td>False</td>\n",
       "      <td>False</td>\n",
       "      <td>False</td>\n",
       "      <td>False</td>\n",
       "    </tr>\n",
       "    <tr>\n",
       "      <th>2</th>\n",
       "      <td>2</td>\n",
       "      <td>True</td>\n",
       "      <td>False</td>\n",
       "      <td>True</td>\n",
       "      <td>False</td>\n",
       "      <td>False</td>\n",
       "      <td>True</td>\n",
       "      <td>False</td>\n",
       "      <td>True</td>\n",
       "      <td>False</td>\n",
       "      <td>True</td>\n",
       "      <td>False</td>\n",
       "      <td>False</td>\n",
       "      <td>False</td>\n",
       "      <td>False</td>\n",
       "      <td>True</td>\n",
       "      <td>True</td>\n",
       "    </tr>\n",
       "    <tr>\n",
       "      <th>3</th>\n",
       "      <td>3</td>\n",
       "      <td>False</td>\n",
       "      <td>False</td>\n",
       "      <td>True</td>\n",
       "      <td>True</td>\n",
       "      <td>False</td>\n",
       "      <td>True</td>\n",
       "      <td>False</td>\n",
       "      <td>False</td>\n",
       "      <td>False</td>\n",
       "      <td>True</td>\n",
       "      <td>True</td>\n",
       "      <td>True</td>\n",
       "      <td>False</td>\n",
       "      <td>False</td>\n",
       "      <td>False</td>\n",
       "      <td>False</td>\n",
       "    </tr>\n",
       "    <tr>\n",
       "      <th>4</th>\n",
       "      <td>4</td>\n",
       "      <td>True</td>\n",
       "      <td>True</td>\n",
       "      <td>False</td>\n",
       "      <td>False</td>\n",
       "      <td>False</td>\n",
       "      <td>False</td>\n",
       "      <td>False</td>\n",
       "      <td>False</td>\n",
       "      <td>False</td>\n",
       "      <td>False</td>\n",
       "      <td>False</td>\n",
       "      <td>False</td>\n",
       "      <td>False</td>\n",
       "      <td>False</td>\n",
       "      <td>False</td>\n",
       "      <td>False</td>\n",
       "    </tr>\n",
       "  </tbody>\n",
       "</table>\n",
       "</div>"
      ],
      "text/plain": [
       "   Unnamed: 0  Apple  Bread  Butter  Cheese   Corn   Dill   Eggs  Ice cream  \\\n",
       "0           0  False   True   False   False   True   True  False       True   \n",
       "1           1  False  False   False   False  False  False  False      False   \n",
       "2           2   True  False    True   False  False   True  False       True   \n",
       "3           3  False  False    True    True  False   True  False      False   \n",
       "4           4   True   True   False   False  False  False  False      False   \n",
       "\n",
       "   Kidney Beans   Milk  Nutmeg  Onion  Sugar  Unicorn  Yogurt  chocolate  \n",
       "0         False  False   False  False   True    False    True       True  \n",
       "1         False   True   False  False  False    False   False      False  \n",
       "2         False   True   False  False  False    False    True       True  \n",
       "3         False   True    True   True  False    False   False      False  \n",
       "4         False  False   False  False  False    False   False      False  "
      ]
     },
     "execution_count": 2,
     "metadata": {},
     "output_type": "execute_result"
    }
   ],
   "source": [
    "data = pd.read_csv(\"basket_analysis.csv\")\n",
    "data.head()"
   ]
  },
  {
   "cell_type": "code",
   "execution_count": 3,
   "id": "5c159d6f",
   "metadata": {},
   "outputs": [
    {
     "data": {
      "text/html": [
       "<div>\n",
       "<style scoped>\n",
       "    .dataframe tbody tr th:only-of-type {\n",
       "        vertical-align: middle;\n",
       "    }\n",
       "\n",
       "    .dataframe tbody tr th {\n",
       "        vertical-align: top;\n",
       "    }\n",
       "\n",
       "    .dataframe thead th {\n",
       "        text-align: right;\n",
       "    }\n",
       "</style>\n",
       "<table border=\"1\" class=\"dataframe\">\n",
       "  <thead>\n",
       "    <tr style=\"text-align: right;\">\n",
       "      <th></th>\n",
       "      <th>Apple</th>\n",
       "      <th>Bread</th>\n",
       "      <th>Butter</th>\n",
       "      <th>Cheese</th>\n",
       "      <th>Corn</th>\n",
       "      <th>Dill</th>\n",
       "      <th>Eggs</th>\n",
       "      <th>Ice cream</th>\n",
       "      <th>Kidney Beans</th>\n",
       "      <th>Milk</th>\n",
       "      <th>Nutmeg</th>\n",
       "      <th>Onion</th>\n",
       "      <th>Sugar</th>\n",
       "      <th>Unicorn</th>\n",
       "      <th>Yogurt</th>\n",
       "      <th>chocolate</th>\n",
       "    </tr>\n",
       "  </thead>\n",
       "  <tbody>\n",
       "    <tr>\n",
       "      <th>0</th>\n",
       "      <td>False</td>\n",
       "      <td>True</td>\n",
       "      <td>False</td>\n",
       "      <td>False</td>\n",
       "      <td>True</td>\n",
       "      <td>True</td>\n",
       "      <td>False</td>\n",
       "      <td>True</td>\n",
       "      <td>False</td>\n",
       "      <td>False</td>\n",
       "      <td>False</td>\n",
       "      <td>False</td>\n",
       "      <td>True</td>\n",
       "      <td>False</td>\n",
       "      <td>True</td>\n",
       "      <td>True</td>\n",
       "    </tr>\n",
       "    <tr>\n",
       "      <th>1</th>\n",
       "      <td>False</td>\n",
       "      <td>False</td>\n",
       "      <td>False</td>\n",
       "      <td>False</td>\n",
       "      <td>False</td>\n",
       "      <td>False</td>\n",
       "      <td>False</td>\n",
       "      <td>False</td>\n",
       "      <td>False</td>\n",
       "      <td>True</td>\n",
       "      <td>False</td>\n",
       "      <td>False</td>\n",
       "      <td>False</td>\n",
       "      <td>False</td>\n",
       "      <td>False</td>\n",
       "      <td>False</td>\n",
       "    </tr>\n",
       "    <tr>\n",
       "      <th>2</th>\n",
       "      <td>True</td>\n",
       "      <td>False</td>\n",
       "      <td>True</td>\n",
       "      <td>False</td>\n",
       "      <td>False</td>\n",
       "      <td>True</td>\n",
       "      <td>False</td>\n",
       "      <td>True</td>\n",
       "      <td>False</td>\n",
       "      <td>True</td>\n",
       "      <td>False</td>\n",
       "      <td>False</td>\n",
       "      <td>False</td>\n",
       "      <td>False</td>\n",
       "      <td>True</td>\n",
       "      <td>True</td>\n",
       "    </tr>\n",
       "    <tr>\n",
       "      <th>3</th>\n",
       "      <td>False</td>\n",
       "      <td>False</td>\n",
       "      <td>True</td>\n",
       "      <td>True</td>\n",
       "      <td>False</td>\n",
       "      <td>True</td>\n",
       "      <td>False</td>\n",
       "      <td>False</td>\n",
       "      <td>False</td>\n",
       "      <td>True</td>\n",
       "      <td>True</td>\n",
       "      <td>True</td>\n",
       "      <td>False</td>\n",
       "      <td>False</td>\n",
       "      <td>False</td>\n",
       "      <td>False</td>\n",
       "    </tr>\n",
       "    <tr>\n",
       "      <th>4</th>\n",
       "      <td>True</td>\n",
       "      <td>True</td>\n",
       "      <td>False</td>\n",
       "      <td>False</td>\n",
       "      <td>False</td>\n",
       "      <td>False</td>\n",
       "      <td>False</td>\n",
       "      <td>False</td>\n",
       "      <td>False</td>\n",
       "      <td>False</td>\n",
       "      <td>False</td>\n",
       "      <td>False</td>\n",
       "      <td>False</td>\n",
       "      <td>False</td>\n",
       "      <td>False</td>\n",
       "      <td>False</td>\n",
       "    </tr>\n",
       "  </tbody>\n",
       "</table>\n",
       "</div>"
      ],
      "text/plain": [
       "   Apple  Bread  Butter  Cheese   Corn   Dill   Eggs  Ice cream  Kidney Beans  \\\n",
       "0  False   True   False   False   True   True  False       True         False   \n",
       "1  False  False   False   False  False  False  False      False         False   \n",
       "2   True  False    True   False  False   True  False       True         False   \n",
       "3  False  False    True    True  False   True  False      False         False   \n",
       "4   True   True   False   False  False  False  False      False         False   \n",
       "\n",
       "    Milk  Nutmeg  Onion  Sugar  Unicorn  Yogurt  chocolate  \n",
       "0  False   False  False   True    False    True       True  \n",
       "1   True   False  False  False    False   False      False  \n",
       "2   True   False  False  False    False    True       True  \n",
       "3   True    True   True  False    False   False      False  \n",
       "4  False   False  False  False    False   False      False  "
      ]
     },
     "execution_count": 3,
     "metadata": {},
     "output_type": "execute_result"
    }
   ],
   "source": [
    "data = data.drop(['Unnamed: 0'],axis = 1)\n",
    "data.head()"
   ]
  },
  {
   "cell_type": "code",
   "execution_count": 4,
   "id": "cdb7599f",
   "metadata": {},
   "outputs": [
    {
     "data": {
      "text/html": [
       "<div>\n",
       "<style scoped>\n",
       "    .dataframe tbody tr th:only-of-type {\n",
       "        vertical-align: middle;\n",
       "    }\n",
       "\n",
       "    .dataframe tbody tr th {\n",
       "        vertical-align: top;\n",
       "    }\n",
       "\n",
       "    .dataframe thead th {\n",
       "        text-align: right;\n",
       "    }\n",
       "</style>\n",
       "<table border=\"1\" class=\"dataframe\">\n",
       "  <thead>\n",
       "    <tr style=\"text-align: right;\">\n",
       "      <th></th>\n",
       "      <th>Apple</th>\n",
       "      <th>Bread</th>\n",
       "      <th>Butter</th>\n",
       "      <th>Cheese</th>\n",
       "      <th>Corn</th>\n",
       "      <th>Dill</th>\n",
       "      <th>Eggs</th>\n",
       "      <th>Ice cream</th>\n",
       "      <th>Kidney Beans</th>\n",
       "      <th>Milk</th>\n",
       "      <th>Nutmeg</th>\n",
       "      <th>Onion</th>\n",
       "      <th>Sugar</th>\n",
       "      <th>Unicorn</th>\n",
       "      <th>Yogurt</th>\n",
       "      <th>chocolate</th>\n",
       "    </tr>\n",
       "  </thead>\n",
       "  <tbody>\n",
       "    <tr>\n",
       "      <th>count</th>\n",
       "      <td>999</td>\n",
       "      <td>999</td>\n",
       "      <td>999</td>\n",
       "      <td>999</td>\n",
       "      <td>999</td>\n",
       "      <td>999</td>\n",
       "      <td>999</td>\n",
       "      <td>999</td>\n",
       "      <td>999</td>\n",
       "      <td>999</td>\n",
       "      <td>999</td>\n",
       "      <td>999</td>\n",
       "      <td>999</td>\n",
       "      <td>999</td>\n",
       "      <td>999</td>\n",
       "      <td>999</td>\n",
       "    </tr>\n",
       "    <tr>\n",
       "      <th>unique</th>\n",
       "      <td>2</td>\n",
       "      <td>2</td>\n",
       "      <td>2</td>\n",
       "      <td>2</td>\n",
       "      <td>2</td>\n",
       "      <td>2</td>\n",
       "      <td>2</td>\n",
       "      <td>2</td>\n",
       "      <td>2</td>\n",
       "      <td>2</td>\n",
       "      <td>2</td>\n",
       "      <td>2</td>\n",
       "      <td>2</td>\n",
       "      <td>2</td>\n",
       "      <td>2</td>\n",
       "      <td>2</td>\n",
       "    </tr>\n",
       "    <tr>\n",
       "      <th>top</th>\n",
       "      <td>False</td>\n",
       "      <td>False</td>\n",
       "      <td>False</td>\n",
       "      <td>False</td>\n",
       "      <td>False</td>\n",
       "      <td>False</td>\n",
       "      <td>False</td>\n",
       "      <td>False</td>\n",
       "      <td>False</td>\n",
       "      <td>False</td>\n",
       "      <td>False</td>\n",
       "      <td>False</td>\n",
       "      <td>False</td>\n",
       "      <td>False</td>\n",
       "      <td>False</td>\n",
       "      <td>False</td>\n",
       "    </tr>\n",
       "    <tr>\n",
       "      <th>freq</th>\n",
       "      <td>616</td>\n",
       "      <td>615</td>\n",
       "      <td>579</td>\n",
       "      <td>595</td>\n",
       "      <td>592</td>\n",
       "      <td>601</td>\n",
       "      <td>615</td>\n",
       "      <td>589</td>\n",
       "      <td>591</td>\n",
       "      <td>594</td>\n",
       "      <td>598</td>\n",
       "      <td>596</td>\n",
       "      <td>590</td>\n",
       "      <td>610</td>\n",
       "      <td>579</td>\n",
       "      <td>578</td>\n",
       "    </tr>\n",
       "  </tbody>\n",
       "</table>\n",
       "</div>"
      ],
      "text/plain": [
       "        Apple  Bread Butter Cheese   Corn   Dill   Eggs Ice cream  \\\n",
       "count     999    999    999    999    999    999    999       999   \n",
       "unique      2      2      2      2      2      2      2         2   \n",
       "top     False  False  False  False  False  False  False     False   \n",
       "freq      616    615    579    595    592    601    615       589   \n",
       "\n",
       "       Kidney Beans   Milk Nutmeg  Onion  Sugar Unicorn Yogurt chocolate  \n",
       "count           999    999    999    999    999     999    999       999  \n",
       "unique            2      2      2      2      2       2      2         2  \n",
       "top           False  False  False  False  False   False  False     False  \n",
       "freq            591    594    598    596    590     610    579       578  "
      ]
     },
     "execution_count": 4,
     "metadata": {},
     "output_type": "execute_result"
    }
   ],
   "source": [
    "data.describe()"
   ]
  },
  {
   "cell_type": "code",
   "execution_count": 5,
   "id": "6a1cfe52",
   "metadata": {},
   "outputs": [
    {
     "data": {
      "text/plain": [
       "Apple           0\n",
       "Bread           0\n",
       "Butter          0\n",
       "Cheese          0\n",
       "Corn            0\n",
       "Dill            0\n",
       "Eggs            0\n",
       "Ice cream       0\n",
       "Kidney Beans    0\n",
       "Milk            0\n",
       "Nutmeg          0\n",
       "Onion           0\n",
       "Sugar           0\n",
       "Unicorn         0\n",
       "Yogurt          0\n",
       "chocolate       0\n",
       "dtype: int64"
      ]
     },
     "execution_count": 5,
     "metadata": {},
     "output_type": "execute_result"
    }
   ],
   "source": [
    "nullity = data.isnull().sum()\n",
    "nullity"
   ]
  },
  {
   "cell_type": "code",
   "execution_count": 6,
   "id": "110a7309",
   "metadata": {},
   "outputs": [
    {
     "data": {
      "text/html": [
       "<div>\n",
       "<style scoped>\n",
       "    .dataframe tbody tr th:only-of-type {\n",
       "        vertical-align: middle;\n",
       "    }\n",
       "\n",
       "    .dataframe tbody tr th {\n",
       "        vertical-align: top;\n",
       "    }\n",
       "\n",
       "    .dataframe thead th {\n",
       "        text-align: right;\n",
       "    }\n",
       "</style>\n",
       "<table border=\"1\" class=\"dataframe\">\n",
       "  <thead>\n",
       "    <tr style=\"text-align: right;\">\n",
       "      <th></th>\n",
       "      <th>support</th>\n",
       "      <th>itemsets</th>\n",
       "    </tr>\n",
       "  </thead>\n",
       "  <tbody>\n",
       "    <tr>\n",
       "      <th>0</th>\n",
       "      <td>0.383383</td>\n",
       "      <td>(Apple)</td>\n",
       "    </tr>\n",
       "    <tr>\n",
       "      <th>1</th>\n",
       "      <td>0.384384</td>\n",
       "      <td>(Bread)</td>\n",
       "    </tr>\n",
       "    <tr>\n",
       "      <th>2</th>\n",
       "      <td>0.420420</td>\n",
       "      <td>(Butter)</td>\n",
       "    </tr>\n",
       "    <tr>\n",
       "      <th>3</th>\n",
       "      <td>0.404404</td>\n",
       "      <td>(Cheese)</td>\n",
       "    </tr>\n",
       "    <tr>\n",
       "      <th>4</th>\n",
       "      <td>0.407407</td>\n",
       "      <td>(Corn)</td>\n",
       "    </tr>\n",
       "    <tr>\n",
       "      <th>...</th>\n",
       "      <td>...</td>\n",
       "      <td>...</td>\n",
       "    </tr>\n",
       "    <tr>\n",
       "      <th>691</th>\n",
       "      <td>0.098098</td>\n",
       "      <td>(Yogurt, Onion, chocolate)</td>\n",
       "    </tr>\n",
       "    <tr>\n",
       "      <th>692</th>\n",
       "      <td>0.087087</td>\n",
       "      <td>(Yogurt, Unicorn, Sugar)</td>\n",
       "    </tr>\n",
       "    <tr>\n",
       "      <th>693</th>\n",
       "      <td>0.090090</td>\n",
       "      <td>(chocolate, Unicorn, Sugar)</td>\n",
       "    </tr>\n",
       "    <tr>\n",
       "      <th>694</th>\n",
       "      <td>0.095095</td>\n",
       "      <td>(Yogurt, chocolate, Sugar)</td>\n",
       "    </tr>\n",
       "    <tr>\n",
       "      <th>695</th>\n",
       "      <td>0.086086</td>\n",
       "      <td>(Yogurt, Unicorn, chocolate)</td>\n",
       "    </tr>\n",
       "  </tbody>\n",
       "</table>\n",
       "<p>696 rows × 2 columns</p>\n",
       "</div>"
      ],
      "text/plain": [
       "      support                      itemsets\n",
       "0    0.383383                       (Apple)\n",
       "1    0.384384                       (Bread)\n",
       "2    0.420420                      (Butter)\n",
       "3    0.404404                      (Cheese)\n",
       "4    0.407407                        (Corn)\n",
       "..        ...                           ...\n",
       "691  0.098098    (Yogurt, Onion, chocolate)\n",
       "692  0.087087      (Yogurt, Unicorn, Sugar)\n",
       "693  0.090090   (chocolate, Unicorn, Sugar)\n",
       "694  0.095095    (Yogurt, chocolate, Sugar)\n",
       "695  0.086086  (Yogurt, Unicorn, chocolate)\n",
       "\n",
       "[696 rows x 2 columns]"
      ]
     },
     "execution_count": 6,
     "metadata": {},
     "output_type": "execute_result"
    }
   ],
   "source": [
    "frequent_itemsets = apriori(data, min_support = 0.006, max_len = 3, use_colnames = True)\n",
    "frequent_itemsets"
   ]
  },
  {
   "cell_type": "code",
   "execution_count": 7,
   "id": "739d73d0",
   "metadata": {},
   "outputs": [
    {
     "data": {
      "text/html": [
       "<div>\n",
       "<style scoped>\n",
       "    .dataframe tbody tr th:only-of-type {\n",
       "        vertical-align: middle;\n",
       "    }\n",
       "\n",
       "    .dataframe tbody tr th {\n",
       "        vertical-align: top;\n",
       "    }\n",
       "\n",
       "    .dataframe thead th {\n",
       "        text-align: right;\n",
       "    }\n",
       "</style>\n",
       "<table border=\"1\" class=\"dataframe\">\n",
       "  <thead>\n",
       "    <tr style=\"text-align: right;\">\n",
       "      <th></th>\n",
       "      <th>antecedents</th>\n",
       "      <th>consequents</th>\n",
       "      <th>antecedent support</th>\n",
       "      <th>consequent support</th>\n",
       "      <th>support</th>\n",
       "      <th>confidence</th>\n",
       "      <th>lift</th>\n",
       "      <th>leverage</th>\n",
       "      <th>conviction</th>\n",
       "    </tr>\n",
       "  </thead>\n",
       "  <tbody>\n",
       "    <tr>\n",
       "      <th>0</th>\n",
       "      <td>(Bread)</td>\n",
       "      <td>(Apple)</td>\n",
       "      <td>0.384384</td>\n",
       "      <td>0.383383</td>\n",
       "      <td>0.154154</td>\n",
       "      <td>0.401042</td>\n",
       "      <td>1.046059</td>\n",
       "      <td>0.006788</td>\n",
       "      <td>1.029482</td>\n",
       "    </tr>\n",
       "    <tr>\n",
       "      <th>1</th>\n",
       "      <td>(Apple)</td>\n",
       "      <td>(Bread)</td>\n",
       "      <td>0.383383</td>\n",
       "      <td>0.384384</td>\n",
       "      <td>0.154154</td>\n",
       "      <td>0.402089</td>\n",
       "      <td>1.046059</td>\n",
       "      <td>0.006788</td>\n",
       "      <td>1.029610</td>\n",
       "    </tr>\n",
       "    <tr>\n",
       "      <th>2</th>\n",
       "      <td>(Butter)</td>\n",
       "      <td>(Apple)</td>\n",
       "      <td>0.420420</td>\n",
       "      <td>0.383383</td>\n",
       "      <td>0.188188</td>\n",
       "      <td>0.447619</td>\n",
       "      <td>1.167549</td>\n",
       "      <td>0.027006</td>\n",
       "      <td>1.116289</td>\n",
       "    </tr>\n",
       "    <tr>\n",
       "      <th>3</th>\n",
       "      <td>(Apple)</td>\n",
       "      <td>(Butter)</td>\n",
       "      <td>0.383383</td>\n",
       "      <td>0.420420</td>\n",
       "      <td>0.188188</td>\n",
       "      <td>0.490862</td>\n",
       "      <td>1.167549</td>\n",
       "      <td>0.027006</td>\n",
       "      <td>1.138354</td>\n",
       "    </tr>\n",
       "    <tr>\n",
       "      <th>4</th>\n",
       "      <td>(Cheese)</td>\n",
       "      <td>(Apple)</td>\n",
       "      <td>0.404404</td>\n",
       "      <td>0.383383</td>\n",
       "      <td>0.162162</td>\n",
       "      <td>0.400990</td>\n",
       "      <td>1.045925</td>\n",
       "      <td>0.007120</td>\n",
       "      <td>1.029393</td>\n",
       "    </tr>\n",
       "    <tr>\n",
       "      <th>...</th>\n",
       "      <td>...</td>\n",
       "      <td>...</td>\n",
       "      <td>...</td>\n",
       "      <td>...</td>\n",
       "      <td>...</td>\n",
       "      <td>...</td>\n",
       "      <td>...</td>\n",
       "      <td>...</td>\n",
       "      <td>...</td>\n",
       "    </tr>\n",
       "    <tr>\n",
       "      <th>433</th>\n",
       "      <td>(Yogurt, chocolate)</td>\n",
       "      <td>(Milk)</td>\n",
       "      <td>0.198198</td>\n",
       "      <td>0.405405</td>\n",
       "      <td>0.104104</td>\n",
       "      <td>0.525253</td>\n",
       "      <td>1.295623</td>\n",
       "      <td>0.023753</td>\n",
       "      <td>1.252444</td>\n",
       "    </tr>\n",
       "    <tr>\n",
       "      <th>434</th>\n",
       "      <td>(Milk, chocolate)</td>\n",
       "      <td>(Yogurt)</td>\n",
       "      <td>0.211211</td>\n",
       "      <td>0.420420</td>\n",
       "      <td>0.104104</td>\n",
       "      <td>0.492891</td>\n",
       "      <td>1.172376</td>\n",
       "      <td>0.015307</td>\n",
       "      <td>1.142909</td>\n",
       "    </tr>\n",
       "    <tr>\n",
       "      <th>435</th>\n",
       "      <td>(Yogurt)</td>\n",
       "      <td>(Milk, chocolate)</td>\n",
       "      <td>0.420420</td>\n",
       "      <td>0.211211</td>\n",
       "      <td>0.104104</td>\n",
       "      <td>0.247619</td>\n",
       "      <td>1.172376</td>\n",
       "      <td>0.015307</td>\n",
       "      <td>1.048390</td>\n",
       "    </tr>\n",
       "    <tr>\n",
       "      <th>436</th>\n",
       "      <td>(Milk)</td>\n",
       "      <td>(Yogurt, chocolate)</td>\n",
       "      <td>0.405405</td>\n",
       "      <td>0.198198</td>\n",
       "      <td>0.104104</td>\n",
       "      <td>0.256790</td>\n",
       "      <td>1.295623</td>\n",
       "      <td>0.023753</td>\n",
       "      <td>1.078836</td>\n",
       "    </tr>\n",
       "    <tr>\n",
       "      <th>437</th>\n",
       "      <td>(chocolate)</td>\n",
       "      <td>(Yogurt, Milk)</td>\n",
       "      <td>0.421421</td>\n",
       "      <td>0.190190</td>\n",
       "      <td>0.104104</td>\n",
       "      <td>0.247031</td>\n",
       "      <td>1.298862</td>\n",
       "      <td>0.023954</td>\n",
       "      <td>1.075489</td>\n",
       "    </tr>\n",
       "  </tbody>\n",
       "</table>\n",
       "<p>438 rows × 9 columns</p>\n",
       "</div>"
      ],
      "text/plain": [
       "             antecedents          consequents  antecedent support  \\\n",
       "0                (Bread)              (Apple)            0.384384   \n",
       "1                (Apple)              (Bread)            0.383383   \n",
       "2               (Butter)              (Apple)            0.420420   \n",
       "3                (Apple)             (Butter)            0.383383   \n",
       "4               (Cheese)              (Apple)            0.404404   \n",
       "..                   ...                  ...                 ...   \n",
       "433  (Yogurt, chocolate)               (Milk)            0.198198   \n",
       "434    (Milk, chocolate)             (Yogurt)            0.211211   \n",
       "435             (Yogurt)    (Milk, chocolate)            0.420420   \n",
       "436               (Milk)  (Yogurt, chocolate)            0.405405   \n",
       "437          (chocolate)       (Yogurt, Milk)            0.421421   \n",
       "\n",
       "     consequent support   support  confidence      lift  leverage  conviction  \n",
       "0              0.383383  0.154154    0.401042  1.046059  0.006788    1.029482  \n",
       "1              0.384384  0.154154    0.402089  1.046059  0.006788    1.029610  \n",
       "2              0.383383  0.188188    0.447619  1.167549  0.027006    1.116289  \n",
       "3              0.420420  0.188188    0.490862  1.167549  0.027006    1.138354  \n",
       "4              0.383383  0.162162    0.400990  1.045925  0.007120    1.029393  \n",
       "..                  ...       ...         ...       ...       ...         ...  \n",
       "433            0.405405  0.104104    0.525253  1.295623  0.023753    1.252444  \n",
       "434            0.420420  0.104104    0.492891  1.172376  0.015307    1.142909  \n",
       "435            0.211211  0.104104    0.247619  1.172376  0.015307    1.048390  \n",
       "436            0.198198  0.104104    0.256790  1.295623  0.023753    1.078836  \n",
       "437            0.190190  0.104104    0.247031  1.298862  0.023954    1.075489  \n",
       "\n",
       "[438 rows x 9 columns]"
      ]
     },
     "execution_count": 7,
     "metadata": {},
     "output_type": "execute_result"
    }
   ],
   "source": [
    "rules = association_rules(frequent_itemsets, metric = 'support', min_threshold = 0.1)\n",
    "rules"
   ]
  },
  {
   "cell_type": "code",
   "execution_count": 8,
   "id": "5d478e41",
   "metadata": {},
   "outputs": [
    {
     "data": {
      "text/html": [
       "<div>\n",
       "<style scoped>\n",
       "    .dataframe tbody tr th:only-of-type {\n",
       "        vertical-align: middle;\n",
       "    }\n",
       "\n",
       "    .dataframe tbody tr th {\n",
       "        vertical-align: top;\n",
       "    }\n",
       "\n",
       "    .dataframe thead th {\n",
       "        text-align: right;\n",
       "    }\n",
       "</style>\n",
       "<table border=\"1\" class=\"dataframe\">\n",
       "  <thead>\n",
       "    <tr style=\"text-align: right;\">\n",
       "      <th></th>\n",
       "      <th>antecedents</th>\n",
       "      <th>consequents</th>\n",
       "      <th>antecedent support</th>\n",
       "      <th>consequent support</th>\n",
       "      <th>support</th>\n",
       "      <th>confidence</th>\n",
       "      <th>lift</th>\n",
       "      <th>leverage</th>\n",
       "      <th>conviction</th>\n",
       "    </tr>\n",
       "  </thead>\n",
       "  <tbody>\n",
       "    <tr>\n",
       "      <th>0</th>\n",
       "      <td>(Bread)</td>\n",
       "      <td>(Apple)</td>\n",
       "      <td>0.384384</td>\n",
       "      <td>0.383383</td>\n",
       "      <td>0.154154</td>\n",
       "      <td>0.401042</td>\n",
       "      <td>1.046059</td>\n",
       "      <td>0.006788</td>\n",
       "      <td>1.029482</td>\n",
       "    </tr>\n",
       "    <tr>\n",
       "      <th>1</th>\n",
       "      <td>(Apple)</td>\n",
       "      <td>(Bread)</td>\n",
       "      <td>0.383383</td>\n",
       "      <td>0.384384</td>\n",
       "      <td>0.154154</td>\n",
       "      <td>0.402089</td>\n",
       "      <td>1.046059</td>\n",
       "      <td>0.006788</td>\n",
       "      <td>1.029610</td>\n",
       "    </tr>\n",
       "    <tr>\n",
       "      <th>2</th>\n",
       "      <td>(Butter)</td>\n",
       "      <td>(Apple)</td>\n",
       "      <td>0.420420</td>\n",
       "      <td>0.383383</td>\n",
       "      <td>0.188188</td>\n",
       "      <td>0.447619</td>\n",
       "      <td>1.167549</td>\n",
       "      <td>0.027006</td>\n",
       "      <td>1.116289</td>\n",
       "    </tr>\n",
       "    <tr>\n",
       "      <th>3</th>\n",
       "      <td>(Apple)</td>\n",
       "      <td>(Butter)</td>\n",
       "      <td>0.383383</td>\n",
       "      <td>0.420420</td>\n",
       "      <td>0.188188</td>\n",
       "      <td>0.490862</td>\n",
       "      <td>1.167549</td>\n",
       "      <td>0.027006</td>\n",
       "      <td>1.138354</td>\n",
       "    </tr>\n",
       "    <tr>\n",
       "      <th>4</th>\n",
       "      <td>(Cheese)</td>\n",
       "      <td>(Apple)</td>\n",
       "      <td>0.404404</td>\n",
       "      <td>0.383383</td>\n",
       "      <td>0.162162</td>\n",
       "      <td>0.400990</td>\n",
       "      <td>1.045925</td>\n",
       "      <td>0.007120</td>\n",
       "      <td>1.029393</td>\n",
       "    </tr>\n",
       "    <tr>\n",
       "      <th>...</th>\n",
       "      <td>...</td>\n",
       "      <td>...</td>\n",
       "      <td>...</td>\n",
       "      <td>...</td>\n",
       "      <td>...</td>\n",
       "      <td>...</td>\n",
       "      <td>...</td>\n",
       "      <td>...</td>\n",
       "      <td>...</td>\n",
       "    </tr>\n",
       "    <tr>\n",
       "      <th>433</th>\n",
       "      <td>(Yogurt, chocolate)</td>\n",
       "      <td>(Milk)</td>\n",
       "      <td>0.198198</td>\n",
       "      <td>0.405405</td>\n",
       "      <td>0.104104</td>\n",
       "      <td>0.525253</td>\n",
       "      <td>1.295623</td>\n",
       "      <td>0.023753</td>\n",
       "      <td>1.252444</td>\n",
       "    </tr>\n",
       "    <tr>\n",
       "      <th>434</th>\n",
       "      <td>(Milk, chocolate)</td>\n",
       "      <td>(Yogurt)</td>\n",
       "      <td>0.211211</td>\n",
       "      <td>0.420420</td>\n",
       "      <td>0.104104</td>\n",
       "      <td>0.492891</td>\n",
       "      <td>1.172376</td>\n",
       "      <td>0.015307</td>\n",
       "      <td>1.142909</td>\n",
       "    </tr>\n",
       "    <tr>\n",
       "      <th>435</th>\n",
       "      <td>(Yogurt)</td>\n",
       "      <td>(Milk, chocolate)</td>\n",
       "      <td>0.420420</td>\n",
       "      <td>0.211211</td>\n",
       "      <td>0.104104</td>\n",
       "      <td>0.247619</td>\n",
       "      <td>1.172376</td>\n",
       "      <td>0.015307</td>\n",
       "      <td>1.048390</td>\n",
       "    </tr>\n",
       "    <tr>\n",
       "      <th>436</th>\n",
       "      <td>(Milk)</td>\n",
       "      <td>(Yogurt, chocolate)</td>\n",
       "      <td>0.405405</td>\n",
       "      <td>0.198198</td>\n",
       "      <td>0.104104</td>\n",
       "      <td>0.256790</td>\n",
       "      <td>1.295623</td>\n",
       "      <td>0.023753</td>\n",
       "      <td>1.078836</td>\n",
       "    </tr>\n",
       "    <tr>\n",
       "      <th>437</th>\n",
       "      <td>(chocolate)</td>\n",
       "      <td>(Yogurt, Milk)</td>\n",
       "      <td>0.421421</td>\n",
       "      <td>0.190190</td>\n",
       "      <td>0.104104</td>\n",
       "      <td>0.247031</td>\n",
       "      <td>1.298862</td>\n",
       "      <td>0.023954</td>\n",
       "      <td>1.075489</td>\n",
       "    </tr>\n",
       "  </tbody>\n",
       "</table>\n",
       "<p>436 rows × 9 columns</p>\n",
       "</div>"
      ],
      "text/plain": [
       "             antecedents          consequents  antecedent support  \\\n",
       "0                (Bread)              (Apple)            0.384384   \n",
       "1                (Apple)              (Bread)            0.383383   \n",
       "2               (Butter)              (Apple)            0.420420   \n",
       "3                (Apple)             (Butter)            0.383383   \n",
       "4               (Cheese)              (Apple)            0.404404   \n",
       "..                   ...                  ...                 ...   \n",
       "433  (Yogurt, chocolate)               (Milk)            0.198198   \n",
       "434    (Milk, chocolate)             (Yogurt)            0.211211   \n",
       "435             (Yogurt)    (Milk, chocolate)            0.420420   \n",
       "436               (Milk)  (Yogurt, chocolate)            0.405405   \n",
       "437          (chocolate)       (Yogurt, Milk)            0.421421   \n",
       "\n",
       "     consequent support   support  confidence      lift  leverage  conviction  \n",
       "0              0.383383  0.154154    0.401042  1.046059  0.006788    1.029482  \n",
       "1              0.384384  0.154154    0.402089  1.046059  0.006788    1.029610  \n",
       "2              0.383383  0.188188    0.447619  1.167549  0.027006    1.116289  \n",
       "3              0.420420  0.188188    0.490862  1.167549  0.027006    1.138354  \n",
       "4              0.383383  0.162162    0.400990  1.045925  0.007120    1.029393  \n",
       "..                  ...       ...         ...       ...       ...         ...  \n",
       "433            0.405405  0.104104    0.525253  1.295623  0.023753    1.252444  \n",
       "434            0.420420  0.104104    0.492891  1.172376  0.015307    1.142909  \n",
       "435            0.211211  0.104104    0.247619  1.172376  0.015307    1.048390  \n",
       "436            0.198198  0.104104    0.256790  1.295623  0.023753    1.078836  \n",
       "437            0.190190  0.104104    0.247031  1.298862  0.023954    1.075489  \n",
       "\n",
       "[436 rows x 9 columns]"
      ]
     },
     "execution_count": 8,
     "metadata": {},
     "output_type": "execute_result"
    }
   ],
   "source": [
    "filtered_rules = rules[(rules['antecedent support'] > 0.02) &\n",
    "                      (rules['consequent support'] > 0.01) &\n",
    "                       (rules['confidence'] > 0.2) &\n",
    "                       (rules['lift'] > 1.0)\n",
    "                      ]\n",
    "filtered_rules    "
   ]
  },
  {
   "cell_type": "code",
   "execution_count": 9,
   "id": "7af3a066",
   "metadata": {},
   "outputs": [
    {
     "data": {
      "text/html": [
       "<div>\n",
       "<style scoped>\n",
       "    .dataframe tbody tr th:only-of-type {\n",
       "        vertical-align: middle;\n",
       "    }\n",
       "\n",
       "    .dataframe tbody tr th {\n",
       "        vertical-align: top;\n",
       "    }\n",
       "\n",
       "    .dataframe thead th {\n",
       "        text-align: right;\n",
       "    }\n",
       "</style>\n",
       "<table border=\"1\" class=\"dataframe\">\n",
       "  <thead>\n",
       "    <tr style=\"text-align: right;\">\n",
       "      <th></th>\n",
       "      <th>antecedents</th>\n",
       "      <th>consequents</th>\n",
       "      <th>antecedent support</th>\n",
       "      <th>consequent support</th>\n",
       "      <th>support</th>\n",
       "      <th>confidence</th>\n",
       "      <th>lift</th>\n",
       "      <th>leverage</th>\n",
       "      <th>conviction</th>\n",
       "    </tr>\n",
       "  </thead>\n",
       "  <tbody>\n",
       "    <tr>\n",
       "      <th>402</th>\n",
       "      <td>(Unicorn, Dill)</td>\n",
       "      <td>(chocolate)</td>\n",
       "      <td>0.168168</td>\n",
       "      <td>0.421421</td>\n",
       "      <td>0.101101</td>\n",
       "      <td>0.601190</td>\n",
       "      <td>1.426578</td>\n",
       "      <td>0.030231</td>\n",
       "      <td>1.450764</td>\n",
       "    </tr>\n",
       "    <tr>\n",
       "      <th>390</th>\n",
       "      <td>(Milk, Dill)</td>\n",
       "      <td>(chocolate)</td>\n",
       "      <td>0.190190</td>\n",
       "      <td>0.421421</td>\n",
       "      <td>0.114114</td>\n",
       "      <td>0.600000</td>\n",
       "      <td>1.423753</td>\n",
       "      <td>0.033964</td>\n",
       "      <td>1.446446</td>\n",
       "    </tr>\n",
       "    <tr>\n",
       "      <th>326</th>\n",
       "      <td>(Cheese, Dill)</td>\n",
       "      <td>(Onion)</td>\n",
       "      <td>0.177177</td>\n",
       "      <td>0.403403</td>\n",
       "      <td>0.102102</td>\n",
       "      <td>0.576271</td>\n",
       "      <td>1.428523</td>\n",
       "      <td>0.030628</td>\n",
       "      <td>1.407968</td>\n",
       "    </tr>\n",
       "    <tr>\n",
       "      <th>392</th>\n",
       "      <td>(Dill, chocolate)</td>\n",
       "      <td>(Milk)</td>\n",
       "      <td>0.199199</td>\n",
       "      <td>0.405405</td>\n",
       "      <td>0.114114</td>\n",
       "      <td>0.572864</td>\n",
       "      <td>1.413065</td>\n",
       "      <td>0.033358</td>\n",
       "      <td>1.392051</td>\n",
       "    </tr>\n",
       "    <tr>\n",
       "      <th>260</th>\n",
       "      <td>(Kidney Beans, Ice cream)</td>\n",
       "      <td>(Butter)</td>\n",
       "      <td>0.196196</td>\n",
       "      <td>0.420420</td>\n",
       "      <td>0.110110</td>\n",
       "      <td>0.561224</td>\n",
       "      <td>1.334913</td>\n",
       "      <td>0.027625</td>\n",
       "      <td>1.320902</td>\n",
       "    </tr>\n",
       "    <tr>\n",
       "      <th>...</th>\n",
       "      <td>...</td>\n",
       "      <td>...</td>\n",
       "      <td>...</td>\n",
       "      <td>...</td>\n",
       "      <td>...</td>\n",
       "      <td>...</td>\n",
       "      <td>...</td>\n",
       "      <td>...</td>\n",
       "      <td>...</td>\n",
       "    </tr>\n",
       "    <tr>\n",
       "      <th>322</th>\n",
       "      <td>(Butter)</td>\n",
       "      <td>(Nutmeg, Yogurt)</td>\n",
       "      <td>0.420420</td>\n",
       "      <td>0.192192</td>\n",
       "      <td>0.100100</td>\n",
       "      <td>0.238095</td>\n",
       "      <td>1.238839</td>\n",
       "      <td>0.019299</td>\n",
       "      <td>1.060248</td>\n",
       "    </tr>\n",
       "    <tr>\n",
       "      <th>285</th>\n",
       "      <td>(Butter)</td>\n",
       "      <td>(Unicorn, Ice cream)</td>\n",
       "      <td>0.420420</td>\n",
       "      <td>0.185185</td>\n",
       "      <td>0.100100</td>\n",
       "      <td>0.238095</td>\n",
       "      <td>1.285714</td>\n",
       "      <td>0.022244</td>\n",
       "      <td>1.069444</td>\n",
       "    </tr>\n",
       "    <tr>\n",
       "      <th>243</th>\n",
       "      <td>(Butter)</td>\n",
       "      <td>(Apple, Sugar)</td>\n",
       "      <td>0.420420</td>\n",
       "      <td>0.182182</td>\n",
       "      <td>0.100100</td>\n",
       "      <td>0.238095</td>\n",
       "      <td>1.306907</td>\n",
       "      <td>0.023507</td>\n",
       "      <td>1.073386</td>\n",
       "    </tr>\n",
       "    <tr>\n",
       "      <th>371</th>\n",
       "      <td>(Yogurt)</td>\n",
       "      <td>(Corn, Kidney Beans)</td>\n",
       "      <td>0.420420</td>\n",
       "      <td>0.195195</td>\n",
       "      <td>0.100100</td>\n",
       "      <td>0.238095</td>\n",
       "      <td>1.219780</td>\n",
       "      <td>0.018036</td>\n",
       "      <td>1.056306</td>\n",
       "    </tr>\n",
       "    <tr>\n",
       "      <th>377</th>\n",
       "      <td>(chocolate)</td>\n",
       "      <td>(Corn, Kidney Beans)</td>\n",
       "      <td>0.421421</td>\n",
       "      <td>0.195195</td>\n",
       "      <td>0.100100</td>\n",
       "      <td>0.237530</td>\n",
       "      <td>1.216883</td>\n",
       "      <td>0.017841</td>\n",
       "      <td>1.055523</td>\n",
       "    </tr>\n",
       "  </tbody>\n",
       "</table>\n",
       "<p>436 rows × 9 columns</p>\n",
       "</div>"
      ],
      "text/plain": [
       "                   antecedents           consequents  antecedent support  \\\n",
       "402            (Unicorn, Dill)           (chocolate)            0.168168   \n",
       "390               (Milk, Dill)           (chocolate)            0.190190   \n",
       "326             (Cheese, Dill)               (Onion)            0.177177   \n",
       "392          (Dill, chocolate)                (Milk)            0.199199   \n",
       "260  (Kidney Beans, Ice cream)              (Butter)            0.196196   \n",
       "..                         ...                   ...                 ...   \n",
       "322                   (Butter)      (Nutmeg, Yogurt)            0.420420   \n",
       "285                   (Butter)  (Unicorn, Ice cream)            0.420420   \n",
       "243                   (Butter)        (Apple, Sugar)            0.420420   \n",
       "371                   (Yogurt)  (Corn, Kidney Beans)            0.420420   \n",
       "377                (chocolate)  (Corn, Kidney Beans)            0.421421   \n",
       "\n",
       "     consequent support   support  confidence      lift  leverage  conviction  \n",
       "402            0.421421  0.101101    0.601190  1.426578  0.030231    1.450764  \n",
       "390            0.421421  0.114114    0.600000  1.423753  0.033964    1.446446  \n",
       "326            0.403403  0.102102    0.576271  1.428523  0.030628    1.407968  \n",
       "392            0.405405  0.114114    0.572864  1.413065  0.033358    1.392051  \n",
       "260            0.420420  0.110110    0.561224  1.334913  0.027625    1.320902  \n",
       "..                  ...       ...         ...       ...       ...         ...  \n",
       "322            0.192192  0.100100    0.238095  1.238839  0.019299    1.060248  \n",
       "285            0.185185  0.100100    0.238095  1.285714  0.022244    1.069444  \n",
       "243            0.182182  0.100100    0.238095  1.306907  0.023507    1.073386  \n",
       "371            0.195195  0.100100    0.238095  1.219780  0.018036    1.056306  \n",
       "377            0.195195  0.100100    0.237530  1.216883  0.017841    1.055523  \n",
       "\n",
       "[436 rows x 9 columns]"
      ]
     },
     "execution_count": 9,
     "metadata": {},
     "output_type": "execute_result"
    }
   ],
   "source": [
    "filtered_rules = filtered_rules.sort_values('confidence', ascending = False)\n",
    "filtered_rules"
   ]
  },
  {
   "cell_type": "code",
   "execution_count": 10,
   "id": "8790769f",
   "metadata": {},
   "outputs": [
    {
     "data": {
      "image/png": "[encoded data removed]",
      "text/plain": [
       "<Figure size 432x288 with 1 Axes>"
      ]
     },
     "metadata": {
      "needs_background": "light"
     },
     "output_type": "display_data"
    }
   ],
   "source": [
    "sns.scatterplot(x = 'support', y = 'confidence', data = filtered_rules)\n",
    "plt.show()"
   ]
  },
  {
   "cell_type": "code",
   "execution_count": 11,
   "id": "a97dcf01",
   "metadata": {},
   "outputs": [
    {
     "data": {
      "text/html": [
       "<div>\n",
       "<style scoped>\n",
       "    .dataframe tbody tr th:only-of-type {\n",
       "        vertical-align: middle;\n",
       "    }\n",
       "\n",
       "    .dataframe tbody tr th {\n",
       "        vertical-align: top;\n",
       "    }\n",
       "\n",
       "    .dataframe thead th {\n",
       "        text-align: right;\n",
       "    }\n",
       "</style>\n",
       "<table border=\"1\" class=\"dataframe\">\n",
       "  <thead>\n",
       "    <tr style=\"text-align: right;\">\n",
       "      <th></th>\n",
       "      <th>antecedents</th>\n",
       "      <th>consequents</th>\n",
       "      <th>antecedent support</th>\n",
       "      <th>consequent support</th>\n",
       "      <th>support</th>\n",
       "      <th>confidence</th>\n",
       "      <th>lift</th>\n",
       "      <th>leverage</th>\n",
       "      <th>conviction</th>\n",
       "    </tr>\n",
       "  </thead>\n",
       "  <tbody>\n",
       "    <tr>\n",
       "      <th>3</th>\n",
       "      <td>(Apple)</td>\n",
       "      <td>(Butter)</td>\n",
       "      <td>0.383383</td>\n",
       "      <td>0.420420</td>\n",
       "      <td>0.188188</td>\n",
       "      <td>0.490862</td>\n",
       "      <td>1.167549</td>\n",
       "      <td>0.027006</td>\n",
       "      <td>1.138354</td>\n",
       "    </tr>\n",
       "    <tr>\n",
       "      <th>6</th>\n",
       "      <td>(Corn)</td>\n",
       "      <td>(Apple)</td>\n",
       "      <td>0.407407</td>\n",
       "      <td>0.383383</td>\n",
       "      <td>0.186186</td>\n",
       "      <td>0.457002</td>\n",
       "      <td>1.192025</td>\n",
       "      <td>0.029993</td>\n",
       "      <td>1.135579</td>\n",
       "    </tr>\n",
       "    <tr>\n",
       "      <th>7</th>\n",
       "      <td>(Apple)</td>\n",
       "      <td>(Corn)</td>\n",
       "      <td>0.383383</td>\n",
       "      <td>0.407407</td>\n",
       "      <td>0.186186</td>\n",
       "      <td>0.485640</td>\n",
       "      <td>1.192025</td>\n",
       "      <td>0.029993</td>\n",
       "      <td>1.152096</td>\n",
       "    </tr>\n",
       "    <tr>\n",
       "      <th>9</th>\n",
       "      <td>(Apple)</td>\n",
       "      <td>(Dill)</td>\n",
       "      <td>0.383383</td>\n",
       "      <td>0.398398</td>\n",
       "      <td>0.179179</td>\n",
       "      <td>0.467363</td>\n",
       "      <td>1.173104</td>\n",
       "      <td>0.026440</td>\n",
       "      <td>1.129478</td>\n",
       "    </tr>\n",
       "    <tr>\n",
       "      <th>15</th>\n",
       "      <td>(Apple)</td>\n",
       "      <td>(Kidney Beans)</td>\n",
       "      <td>0.383383</td>\n",
       "      <td>0.408408</td>\n",
       "      <td>0.176176</td>\n",
       "      <td>0.459530</td>\n",
       "      <td>1.125173</td>\n",
       "      <td>0.019599</td>\n",
       "      <td>1.094587</td>\n",
       "    </tr>\n",
       "    <tr>\n",
       "      <th>...</th>\n",
       "      <td>...</td>\n",
       "      <td>...</td>\n",
       "      <td>...</td>\n",
       "      <td>...</td>\n",
       "      <td>...</td>\n",
       "      <td>...</td>\n",
       "      <td>...</td>\n",
       "      <td>...</td>\n",
       "      <td>...</td>\n",
       "    </tr>\n",
       "    <tr>\n",
       "      <th>427</th>\n",
       "      <td>(Nutmeg, Yogurt)</td>\n",
       "      <td>(Kidney Beans)</td>\n",
       "      <td>0.192192</td>\n",
       "      <td>0.408408</td>\n",
       "      <td>0.101101</td>\n",
       "      <td>0.526042</td>\n",
       "      <td>1.288028</td>\n",
       "      <td>0.022608</td>\n",
       "      <td>1.248193</td>\n",
       "    </tr>\n",
       "    <tr>\n",
       "      <th>428</th>\n",
       "      <td>(Kidney Beans, Yogurt)</td>\n",
       "      <td>(Nutmeg)</td>\n",
       "      <td>0.194194</td>\n",
       "      <td>0.401401</td>\n",
       "      <td>0.101101</td>\n",
       "      <td>0.520619</td>\n",
       "      <td>1.297002</td>\n",
       "      <td>0.023151</td>\n",
       "      <td>1.248690</td>\n",
       "    </tr>\n",
       "    <tr>\n",
       "      <th>432</th>\n",
       "      <td>(Yogurt, Milk)</td>\n",
       "      <td>(chocolate)</td>\n",
       "      <td>0.190190</td>\n",
       "      <td>0.421421</td>\n",
       "      <td>0.104104</td>\n",
       "      <td>0.547368</td>\n",
       "      <td>1.298862</td>\n",
       "      <td>0.023954</td>\n",
       "      <td>1.278255</td>\n",
       "    </tr>\n",
       "    <tr>\n",
       "      <th>433</th>\n",
       "      <td>(Yogurt, chocolate)</td>\n",
       "      <td>(Milk)</td>\n",
       "      <td>0.198198</td>\n",
       "      <td>0.405405</td>\n",
       "      <td>0.104104</td>\n",
       "      <td>0.525253</td>\n",
       "      <td>1.295623</td>\n",
       "      <td>0.023753</td>\n",
       "      <td>1.252444</td>\n",
       "    </tr>\n",
       "    <tr>\n",
       "      <th>434</th>\n",
       "      <td>(Milk, chocolate)</td>\n",
       "      <td>(Yogurt)</td>\n",
       "      <td>0.211211</td>\n",
       "      <td>0.420420</td>\n",
       "      <td>0.104104</td>\n",
       "      <td>0.492891</td>\n",
       "      <td>1.172376</td>\n",
       "      <td>0.015307</td>\n",
       "      <td>1.142909</td>\n",
       "    </tr>\n",
       "  </tbody>\n",
       "</table>\n",
       "<p>238 rows × 9 columns</p>\n",
       "</div>"
      ],
      "text/plain": [
       "                antecedents     consequents  antecedent support  \\\n",
       "3                   (Apple)        (Butter)            0.383383   \n",
       "6                    (Corn)         (Apple)            0.407407   \n",
       "7                   (Apple)          (Corn)            0.383383   \n",
       "9                   (Apple)          (Dill)            0.383383   \n",
       "15                  (Apple)  (Kidney Beans)            0.383383   \n",
       "..                      ...             ...                 ...   \n",
       "427        (Nutmeg, Yogurt)  (Kidney Beans)            0.192192   \n",
       "428  (Kidney Beans, Yogurt)        (Nutmeg)            0.194194   \n",
       "432          (Yogurt, Milk)     (chocolate)            0.190190   \n",
       "433     (Yogurt, chocolate)          (Milk)            0.198198   \n",
       "434       (Milk, chocolate)        (Yogurt)            0.211211   \n",
       "\n",
       "     consequent support   support  confidence      lift  leverage  conviction  \n",
       "3              0.420420  0.188188    0.490862  1.167549  0.027006    1.138354  \n",
       "6              0.383383  0.186186    0.457002  1.192025  0.029993    1.135579  \n",
       "7              0.407407  0.186186    0.485640  1.192025  0.029993    1.152096  \n",
       "9              0.398398  0.179179    0.467363  1.173104  0.026440    1.129478  \n",
       "15             0.408408  0.176176    0.459530  1.125173  0.019599    1.094587  \n",
       "..                  ...       ...         ...       ...       ...         ...  \n",
       "427            0.408408  0.101101    0.526042  1.288028  0.022608    1.248193  \n",
       "428            0.401401  0.101101    0.520619  1.297002  0.023151    1.248690  \n",
       "432            0.421421  0.104104    0.547368  1.298862  0.023954    1.278255  \n",
       "433            0.405405  0.104104    0.525253  1.295623  0.023753    1.252444  \n",
       "434            0.420420  0.104104    0.492891  1.172376  0.015307    1.142909  \n",
       "\n",
       "[238 rows x 9 columns]"
      ]
     },
     "execution_count": 11,
     "metadata": {},
     "output_type": "execute_result"
    }
   ],
   "source": [
    "filtered_rules = rules[(rules['antecedent support'] > 0.02) &\n",
    "                        (rules['consequent support'] > 0.01) &\n",
    "                       (rules['confidence'] > 0.45) &\n",
    "                       (rules['lift'] > 1.0)\n",
    "                      ]\n",
    "filtered_rules"
   ]
  },
  {
   "cell_type": "code",
   "execution_count": 12,
   "id": "a70305b4",
   "metadata": {},
   "outputs": [
    {
     "data": {
      "image/png": "[encoded data removed]",
      "text/plain": [
       "<Figure size 432x288 with 1 Axes>"
      ]
     },
     "metadata": {
      "needs_background": "light"
     },
     "output_type": "display_data"
    }
   ],
   "source": [
    "sns.scatterplot(x = 'support', y = 'confidence', data = filtered_rules)\n",
    "plt.show()"
   ]
  },
  {
   "cell_type": "code",
   "execution_count": 13,
   "id": "3063f32b",
   "metadata": {},
   "outputs": [
    {
     "data": {
      "text/html": [
       "<div>\n",
       "<style scoped>\n",
       "    .dataframe tbody tr th:only-of-type {\n",
       "        vertical-align: middle;\n",
       "    }\n",
       "\n",
       "    .dataframe tbody tr th {\n",
       "        vertical-align: top;\n",
       "    }\n",
       "\n",
       "    .dataframe thead th {\n",
       "        text-align: right;\n",
       "    }\n",
       "</style>\n",
       "<table border=\"1\" class=\"dataframe\">\n",
       "  <thead>\n",
       "    <tr style=\"text-align: right;\">\n",
       "      <th></th>\n",
       "      <th>antecedents</th>\n",
       "      <th>consequents</th>\n",
       "      <th>antecedent support</th>\n",
       "      <th>consequent support</th>\n",
       "      <th>support</th>\n",
       "      <th>confidence</th>\n",
       "      <th>lift</th>\n",
       "      <th>leverage</th>\n",
       "      <th>conviction</th>\n",
       "    </tr>\n",
       "  </thead>\n",
       "  <tbody>\n",
       "    <tr>\n",
       "      <th>66</th>\n",
       "      <td>(Butter)</td>\n",
       "      <td>(Ice cream)</td>\n",
       "      <td>0.420420</td>\n",
       "      <td>0.410410</td>\n",
       "      <td>0.207207</td>\n",
       "      <td>0.492857</td>\n",
       "      <td>1.200889</td>\n",
       "      <td>0.034662</td>\n",
       "      <td>1.162571</td>\n",
       "    </tr>\n",
       "    <tr>\n",
       "      <th>67</th>\n",
       "      <td>(Ice cream)</td>\n",
       "      <td>(Butter)</td>\n",
       "      <td>0.410410</td>\n",
       "      <td>0.420420</td>\n",
       "      <td>0.207207</td>\n",
       "      <td>0.504878</td>\n",
       "      <td>1.200889</td>\n",
       "      <td>0.034662</td>\n",
       "      <td>1.170579</td>\n",
       "    </tr>\n",
       "    <tr>\n",
       "      <th>68</th>\n",
       "      <td>(Butter)</td>\n",
       "      <td>(Kidney Beans)</td>\n",
       "      <td>0.420420</td>\n",
       "      <td>0.408408</td>\n",
       "      <td>0.202202</td>\n",
       "      <td>0.480952</td>\n",
       "      <td>1.177626</td>\n",
       "      <td>0.030499</td>\n",
       "      <td>1.139764</td>\n",
       "    </tr>\n",
       "    <tr>\n",
       "      <th>69</th>\n",
       "      <td>(Kidney Beans)</td>\n",
       "      <td>(Butter)</td>\n",
       "      <td>0.408408</td>\n",
       "      <td>0.420420</td>\n",
       "      <td>0.202202</td>\n",
       "      <td>0.495098</td>\n",
       "      <td>1.177626</td>\n",
       "      <td>0.030499</td>\n",
       "      <td>1.147905</td>\n",
       "    </tr>\n",
       "    <tr>\n",
       "      <th>70</th>\n",
       "      <td>(Butter)</td>\n",
       "      <td>(Milk)</td>\n",
       "      <td>0.420420</td>\n",
       "      <td>0.405405</td>\n",
       "      <td>0.198198</td>\n",
       "      <td>0.471429</td>\n",
       "      <td>1.162857</td>\n",
       "      <td>0.027757</td>\n",
       "      <td>1.124909</td>\n",
       "    </tr>\n",
       "    <tr>\n",
       "      <th>71</th>\n",
       "      <td>(Milk)</td>\n",
       "      <td>(Butter)</td>\n",
       "      <td>0.405405</td>\n",
       "      <td>0.420420</td>\n",
       "      <td>0.198198</td>\n",
       "      <td>0.488889</td>\n",
       "      <td>1.162857</td>\n",
       "      <td>0.027757</td>\n",
       "      <td>1.133960</td>\n",
       "    </tr>\n",
       "    <tr>\n",
       "      <th>72</th>\n",
       "      <td>(Nutmeg)</td>\n",
       "      <td>(Butter)</td>\n",
       "      <td>0.401401</td>\n",
       "      <td>0.420420</td>\n",
       "      <td>0.198198</td>\n",
       "      <td>0.493766</td>\n",
       "      <td>1.174457</td>\n",
       "      <td>0.029441</td>\n",
       "      <td>1.144884</td>\n",
       "    </tr>\n",
       "    <tr>\n",
       "      <th>73</th>\n",
       "      <td>(Butter)</td>\n",
       "      <td>(Nutmeg)</td>\n",
       "      <td>0.420420</td>\n",
       "      <td>0.401401</td>\n",
       "      <td>0.198198</td>\n",
       "      <td>0.471429</td>\n",
       "      <td>1.174457</td>\n",
       "      <td>0.029441</td>\n",
       "      <td>1.132484</td>\n",
       "    </tr>\n",
       "    <tr>\n",
       "      <th>74</th>\n",
       "      <td>(Butter)</td>\n",
       "      <td>(Onion)</td>\n",
       "      <td>0.420420</td>\n",
       "      <td>0.403403</td>\n",
       "      <td>0.197197</td>\n",
       "      <td>0.469048</td>\n",
       "      <td>1.162726</td>\n",
       "      <td>0.027598</td>\n",
       "      <td>1.123635</td>\n",
       "    </tr>\n",
       "    <tr>\n",
       "      <th>75</th>\n",
       "      <td>(Onion)</td>\n",
       "      <td>(Butter)</td>\n",
       "      <td>0.403403</td>\n",
       "      <td>0.420420</td>\n",
       "      <td>0.197197</td>\n",
       "      <td>0.488834</td>\n",
       "      <td>1.162726</td>\n",
       "      <td>0.027598</td>\n",
       "      <td>1.133838</td>\n",
       "    </tr>\n",
       "    <tr>\n",
       "      <th>76</th>\n",
       "      <td>(Butter)</td>\n",
       "      <td>(Sugar)</td>\n",
       "      <td>0.420420</td>\n",
       "      <td>0.409409</td>\n",
       "      <td>0.196196</td>\n",
       "      <td>0.466667</td>\n",
       "      <td>1.139853</td>\n",
       "      <td>0.024072</td>\n",
       "      <td>1.107357</td>\n",
       "    </tr>\n",
       "    <tr>\n",
       "      <th>77</th>\n",
       "      <td>(Sugar)</td>\n",
       "      <td>(Butter)</td>\n",
       "      <td>0.409409</td>\n",
       "      <td>0.420420</td>\n",
       "      <td>0.196196</td>\n",
       "      <td>0.479218</td>\n",
       "      <td>1.139853</td>\n",
       "      <td>0.024072</td>\n",
       "      <td>1.112902</td>\n",
       "    </tr>\n",
       "    <tr>\n",
       "      <th>82</th>\n",
       "      <td>(Butter)</td>\n",
       "      <td>(chocolate)</td>\n",
       "      <td>0.420420</td>\n",
       "      <td>0.421421</td>\n",
       "      <td>0.202202</td>\n",
       "      <td>0.480952</td>\n",
       "      <td>1.141262</td>\n",
       "      <td>0.025028</td>\n",
       "      <td>1.114693</td>\n",
       "    </tr>\n",
       "    <tr>\n",
       "      <th>83</th>\n",
       "      <td>(chocolate)</td>\n",
       "      <td>(Butter)</td>\n",
       "      <td>0.421421</td>\n",
       "      <td>0.420420</td>\n",
       "      <td>0.202202</td>\n",
       "      <td>0.479810</td>\n",
       "      <td>1.141262</td>\n",
       "      <td>0.025028</td>\n",
       "      <td>1.114169</td>\n",
       "    </tr>\n",
       "    <tr>\n",
       "      <th>92</th>\n",
       "      <td>(Kidney Beans)</td>\n",
       "      <td>(Cheese)</td>\n",
       "      <td>0.408408</td>\n",
       "      <td>0.404404</td>\n",
       "      <td>0.200200</td>\n",
       "      <td>0.490196</td>\n",
       "      <td>1.212143</td>\n",
       "      <td>0.035038</td>\n",
       "      <td>1.168284</td>\n",
       "    </tr>\n",
       "    <tr>\n",
       "      <th>93</th>\n",
       "      <td>(Cheese)</td>\n",
       "      <td>(Kidney Beans)</td>\n",
       "      <td>0.404404</td>\n",
       "      <td>0.408408</td>\n",
       "      <td>0.200200</td>\n",
       "      <td>0.495050</td>\n",
       "      <td>1.212143</td>\n",
       "      <td>0.035038</td>\n",
       "      <td>1.171583</td>\n",
       "    </tr>\n",
       "    <tr>\n",
       "      <th>114</th>\n",
       "      <td>(Corn)</td>\n",
       "      <td>(Kidney Beans)</td>\n",
       "      <td>0.407407</td>\n",
       "      <td>0.408408</td>\n",
       "      <td>0.195195</td>\n",
       "      <td>0.479115</td>\n",
       "      <td>1.173128</td>\n",
       "      <td>0.028807</td>\n",
       "      <td>1.135744</td>\n",
       "    </tr>\n",
       "    <tr>\n",
       "      <th>115</th>\n",
       "      <td>(Kidney Beans)</td>\n",
       "      <td>(Corn)</td>\n",
       "      <td>0.408408</td>\n",
       "      <td>0.407407</td>\n",
       "      <td>0.195195</td>\n",
       "      <td>0.477941</td>\n",
       "      <td>1.173128</td>\n",
       "      <td>0.028807</td>\n",
       "      <td>1.135107</td>\n",
       "    </tr>\n",
       "    <tr>\n",
       "      <th>148</th>\n",
       "      <td>(Dill)</td>\n",
       "      <td>(chocolate)</td>\n",
       "      <td>0.398398</td>\n",
       "      <td>0.421421</td>\n",
       "      <td>0.199199</td>\n",
       "      <td>0.500000</td>\n",
       "      <td>1.186461</td>\n",
       "      <td>0.031306</td>\n",
       "      <td>1.157157</td>\n",
       "    </tr>\n",
       "    <tr>\n",
       "      <th>149</th>\n",
       "      <td>(chocolate)</td>\n",
       "      <td>(Dill)</td>\n",
       "      <td>0.421421</td>\n",
       "      <td>0.398398</td>\n",
       "      <td>0.199199</td>\n",
       "      <td>0.472684</td>\n",
       "      <td>1.186461</td>\n",
       "      <td>0.031306</td>\n",
       "      <td>1.140875</td>\n",
       "    </tr>\n",
       "    <tr>\n",
       "      <th>168</th>\n",
       "      <td>(Kidney Beans)</td>\n",
       "      <td>(Ice cream)</td>\n",
       "      <td>0.408408</td>\n",
       "      <td>0.410410</td>\n",
       "      <td>0.196196</td>\n",
       "      <td>0.480392</td>\n",
       "      <td>1.170516</td>\n",
       "      <td>0.028581</td>\n",
       "      <td>1.134682</td>\n",
       "    </tr>\n",
       "    <tr>\n",
       "      <th>169</th>\n",
       "      <td>(Ice cream)</td>\n",
       "      <td>(Kidney Beans)</td>\n",
       "      <td>0.410410</td>\n",
       "      <td>0.408408</td>\n",
       "      <td>0.196196</td>\n",
       "      <td>0.478049</td>\n",
       "      <td>1.170516</td>\n",
       "      <td>0.028581</td>\n",
       "      <td>1.133423</td>\n",
       "    </tr>\n",
       "    <tr>\n",
       "      <th>176</th>\n",
       "      <td>(Ice cream)</td>\n",
       "      <td>(Sugar)</td>\n",
       "      <td>0.410410</td>\n",
       "      <td>0.409409</td>\n",
       "      <td>0.195195</td>\n",
       "      <td>0.475610</td>\n",
       "      <td>1.161697</td>\n",
       "      <td>0.027169</td>\n",
       "      <td>1.126243</td>\n",
       "    </tr>\n",
       "    <tr>\n",
       "      <th>177</th>\n",
       "      <td>(Sugar)</td>\n",
       "      <td>(Ice cream)</td>\n",
       "      <td>0.409409</td>\n",
       "      <td>0.410410</td>\n",
       "      <td>0.195195</td>\n",
       "      <td>0.476773</td>\n",
       "      <td>1.161697</td>\n",
       "      <td>0.027169</td>\n",
       "      <td>1.126832</td>\n",
       "    </tr>\n",
       "    <tr>\n",
       "      <th>182</th>\n",
       "      <td>(Ice cream)</td>\n",
       "      <td>(chocolate)</td>\n",
       "      <td>0.410410</td>\n",
       "      <td>0.421421</td>\n",
       "      <td>0.202202</td>\n",
       "      <td>0.492683</td>\n",
       "      <td>1.169098</td>\n",
       "      <td>0.029246</td>\n",
       "      <td>1.140467</td>\n",
       "    </tr>\n",
       "    <tr>\n",
       "      <th>183</th>\n",
       "      <td>(chocolate)</td>\n",
       "      <td>(Ice cream)</td>\n",
       "      <td>0.421421</td>\n",
       "      <td>0.410410</td>\n",
       "      <td>0.202202</td>\n",
       "      <td>0.479810</td>\n",
       "      <td>1.169098</td>\n",
       "      <td>0.029246</td>\n",
       "      <td>1.133412</td>\n",
       "    </tr>\n",
       "    <tr>\n",
       "      <th>184</th>\n",
       "      <td>(Kidney Beans)</td>\n",
       "      <td>(Milk)</td>\n",
       "      <td>0.408408</td>\n",
       "      <td>0.405405</td>\n",
       "      <td>0.199199</td>\n",
       "      <td>0.487745</td>\n",
       "      <td>1.203105</td>\n",
       "      <td>0.033628</td>\n",
       "      <td>1.160740</td>\n",
       "    </tr>\n",
       "    <tr>\n",
       "      <th>185</th>\n",
       "      <td>(Milk)</td>\n",
       "      <td>(Kidney Beans)</td>\n",
       "      <td>0.405405</td>\n",
       "      <td>0.408408</td>\n",
       "      <td>0.199199</td>\n",
       "      <td>0.491358</td>\n",
       "      <td>1.203105</td>\n",
       "      <td>0.033628</td>\n",
       "      <td>1.163081</td>\n",
       "    </tr>\n",
       "    <tr>\n",
       "      <th>208</th>\n",
       "      <td>(Milk)</td>\n",
       "      <td>(chocolate)</td>\n",
       "      <td>0.405405</td>\n",
       "      <td>0.421421</td>\n",
       "      <td>0.211211</td>\n",
       "      <td>0.520988</td>\n",
       "      <td>1.236263</td>\n",
       "      <td>0.040365</td>\n",
       "      <td>1.207857</td>\n",
       "    </tr>\n",
       "    <tr>\n",
       "      <th>209</th>\n",
       "      <td>(chocolate)</td>\n",
       "      <td>(Milk)</td>\n",
       "      <td>0.421421</td>\n",
       "      <td>0.405405</td>\n",
       "      <td>0.211211</td>\n",
       "      <td>0.501188</td>\n",
       "      <td>1.236263</td>\n",
       "      <td>0.040365</td>\n",
       "      <td>1.192021</td>\n",
       "    </tr>\n",
       "    <tr>\n",
       "      <th>210</th>\n",
       "      <td>(Nutmeg)</td>\n",
       "      <td>(Onion)</td>\n",
       "      <td>0.401401</td>\n",
       "      <td>0.403403</td>\n",
       "      <td>0.195195</td>\n",
       "      <td>0.486284</td>\n",
       "      <td>1.205454</td>\n",
       "      <td>0.033269</td>\n",
       "      <td>1.161336</td>\n",
       "    </tr>\n",
       "    <tr>\n",
       "      <th>211</th>\n",
       "      <td>(Onion)</td>\n",
       "      <td>(Nutmeg)</td>\n",
       "      <td>0.403403</td>\n",
       "      <td>0.401401</td>\n",
       "      <td>0.195195</td>\n",
       "      <td>0.483871</td>\n",
       "      <td>1.205454</td>\n",
       "      <td>0.033269</td>\n",
       "      <td>1.159785</td>\n",
       "    </tr>\n",
       "    <tr>\n",
       "      <th>226</th>\n",
       "      <td>(Onion)</td>\n",
       "      <td>(chocolate)</td>\n",
       "      <td>0.403403</td>\n",
       "      <td>0.421421</td>\n",
       "      <td>0.196196</td>\n",
       "      <td>0.486352</td>\n",
       "      <td>1.154076</td>\n",
       "      <td>0.026193</td>\n",
       "      <td>1.126411</td>\n",
       "    </tr>\n",
       "    <tr>\n",
       "      <th>227</th>\n",
       "      <td>(chocolate)</td>\n",
       "      <td>(Onion)</td>\n",
       "      <td>0.421421</td>\n",
       "      <td>0.403403</td>\n",
       "      <td>0.196196</td>\n",
       "      <td>0.465558</td>\n",
       "      <td>1.154076</td>\n",
       "      <td>0.026193</td>\n",
       "      <td>1.116299</td>\n",
       "    </tr>\n",
       "    <tr>\n",
       "      <th>238</th>\n",
       "      <td>(Yogurt)</td>\n",
       "      <td>(chocolate)</td>\n",
       "      <td>0.420420</td>\n",
       "      <td>0.421421</td>\n",
       "      <td>0.198198</td>\n",
       "      <td>0.471429</td>\n",
       "      <td>1.118663</td>\n",
       "      <td>0.021024</td>\n",
       "      <td>1.094608</td>\n",
       "    </tr>\n",
       "    <tr>\n",
       "      <th>239</th>\n",
       "      <td>(chocolate)</td>\n",
       "      <td>(Yogurt)</td>\n",
       "      <td>0.421421</td>\n",
       "      <td>0.420420</td>\n",
       "      <td>0.198198</td>\n",
       "      <td>0.470309</td>\n",
       "      <td>1.118663</td>\n",
       "      <td>0.021024</td>\n",
       "      <td>1.094184</td>\n",
       "    </tr>\n",
       "  </tbody>\n",
       "</table>\n",
       "</div>"
      ],
      "text/plain": [
       "        antecedents     consequents  antecedent support  consequent support  \\\n",
       "66         (Butter)     (Ice cream)            0.420420            0.410410   \n",
       "67      (Ice cream)        (Butter)            0.410410            0.420420   \n",
       "68         (Butter)  (Kidney Beans)            0.420420            0.408408   \n",
       "69   (Kidney Beans)        (Butter)            0.408408            0.420420   \n",
       "70         (Butter)          (Milk)            0.420420            0.405405   \n",
       "71           (Milk)        (Butter)            0.405405            0.420420   \n",
       "72         (Nutmeg)        (Butter)            0.401401            0.420420   \n",
       "73         (Butter)        (Nutmeg)            0.420420            0.401401   \n",
       "74         (Butter)         (Onion)            0.420420            0.403403   \n",
       "75          (Onion)        (Butter)            0.403403            0.420420   \n",
       "76         (Butter)         (Sugar)            0.420420            0.409409   \n",
       "77          (Sugar)        (Butter)            0.409409            0.420420   \n",
       "82         (Butter)     (chocolate)            0.420420            0.421421   \n",
       "83      (chocolate)        (Butter)            0.421421            0.420420   \n",
       "92   (Kidney Beans)        (Cheese)            0.408408            0.404404   \n",
       "93         (Cheese)  (Kidney Beans)            0.404404            0.408408   \n",
       "114          (Corn)  (Kidney Beans)            0.407407            0.408408   \n",
       "115  (Kidney Beans)          (Corn)            0.408408            0.407407   \n",
       "148          (Dill)     (chocolate)            0.398398            0.421421   \n",
       "149     (chocolate)          (Dill)            0.421421            0.398398   \n",
       "168  (Kidney Beans)     (Ice cream)            0.408408            0.410410   \n",
       "169     (Ice cream)  (Kidney Beans)            0.410410            0.408408   \n",
       "176     (Ice cream)         (Sugar)            0.410410            0.409409   \n",
       "177         (Sugar)     (Ice cream)            0.409409            0.410410   \n",
       "182     (Ice cream)     (chocolate)            0.410410            0.421421   \n",
       "183     (chocolate)     (Ice cream)            0.421421            0.410410   \n",
       "184  (Kidney Beans)          (Milk)            0.408408            0.405405   \n",
       "185          (Milk)  (Kidney Beans)            0.405405            0.408408   \n",
       "208          (Milk)     (chocolate)            0.405405            0.421421   \n",
       "209     (chocolate)          (Milk)            0.421421            0.405405   \n",
       "210        (Nutmeg)         (Onion)            0.401401            0.403403   \n",
       "211         (Onion)        (Nutmeg)            0.403403            0.401401   \n",
       "226         (Onion)     (chocolate)            0.403403            0.421421   \n",
       "227     (chocolate)         (Onion)            0.421421            0.403403   \n",
       "238        (Yogurt)     (chocolate)            0.420420            0.421421   \n",
       "239     (chocolate)        (Yogurt)            0.421421            0.420420   \n",
       "\n",
       "      support  confidence      lift  leverage  conviction  \n",
       "66   0.207207    0.492857  1.200889  0.034662    1.162571  \n",
       "67   0.207207    0.504878  1.200889  0.034662    1.170579  \n",
       "68   0.202202    0.480952  1.177626  0.030499    1.139764  \n",
       "69   0.202202    0.495098  1.177626  0.030499    1.147905  \n",
       "70   0.198198    0.471429  1.162857  0.027757    1.124909  \n",
       "71   0.198198    0.488889  1.162857  0.027757    1.133960  \n",
       "72   0.198198    0.493766  1.174457  0.029441    1.144884  \n",
       "73   0.198198    0.471429  1.174457  0.029441    1.132484  \n",
       "74   0.197197    0.469048  1.162726  0.027598    1.123635  \n",
       "75   0.197197    0.488834  1.162726  0.027598    1.133838  \n",
       "76   0.196196    0.466667  1.139853  0.024072    1.107357  \n",
       "77   0.196196    0.479218  1.139853  0.024072    1.112902  \n",
       "82   0.202202    0.480952  1.141262  0.025028    1.114693  \n",
       "83   0.202202    0.479810  1.141262  0.025028    1.114169  \n",
       "92   0.200200    0.490196  1.212143  0.035038    1.168284  \n",
       "93   0.200200    0.495050  1.212143  0.035038    1.171583  \n",
       "114  0.195195    0.479115  1.173128  0.028807    1.135744  \n",
       "115  0.195195    0.477941  1.173128  0.028807    1.135107  \n",
       "148  0.199199    0.500000  1.186461  0.031306    1.157157  \n",
       "149  0.199199    0.472684  1.186461  0.031306    1.140875  \n",
       "168  0.196196    0.480392  1.170516  0.028581    1.134682  \n",
       "169  0.196196    0.478049  1.170516  0.028581    1.133423  \n",
       "176  0.195195    0.475610  1.161697  0.027169    1.126243  \n",
       "177  0.195195    0.476773  1.161697  0.027169    1.126832  \n",
       "182  0.202202    0.492683  1.169098  0.029246    1.140467  \n",
       "183  0.202202    0.479810  1.169098  0.029246    1.133412  \n",
       "184  0.199199    0.487745  1.203105  0.033628    1.160740  \n",
       "185  0.199199    0.491358  1.203105  0.033628    1.163081  \n",
       "208  0.211211    0.520988  1.236263  0.040365    1.207857  \n",
       "209  0.211211    0.501188  1.236263  0.040365    1.192021  \n",
       "210  0.195195    0.486284  1.205454  0.033269    1.161336  \n",
       "211  0.195195    0.483871  1.205454  0.033269    1.159785  \n",
       "226  0.196196    0.486352  1.154076  0.026193    1.126411  \n",
       "227  0.196196    0.465558  1.154076  0.026193    1.116299  \n",
       "238  0.198198    0.471429  1.118663  0.021024    1.094608  \n",
       "239  0.198198    0.470309  1.118663  0.021024    1.094184  "
      ]
     },
     "execution_count": 13,
     "metadata": {},
     "output_type": "execute_result"
    }
   ],
   "source": [
    "filtered_rules = rules[(rules['antecedent support'] > 0.02) &\n",
    "                        (rules['consequent support'] > 0.01) &\n",
    "                       (rules['confidence'] > 0.45) &\n",
    "                       (rules['lift'] > 1.0) &\n",
    "                       (rules['support'] > 0.195)\n",
    "                      ]\n",
    "filtered_rules"
   ]
  },
  {
   "cell_type": "code",
   "execution_count": 14,
   "id": "908449ed",
   "metadata": {},
   "outputs": [],
   "source": [
    "from pandas.plotting import parallel_coordinates"
   ]
  },
  {
   "cell_type": "code",
   "execution_count": 15,
   "id": "bf4994bf",
   "metadata": {},
   "outputs": [],
   "source": [
    "def rules_to_coordinates(rules):\n",
    "    rules['antecedent'] = rules['antecedents'].apply(lambda antecedent:list(antecedent)[0])\n",
    "    rules['consequent'] = rules['consequents'].apply(lambda consequent:list(consequent)[0])\n",
    "    rules['rule'] = rules.index\n",
    "    return rules[['antecedent','consequent','rule']]"
   ]
  },
  {
   "cell_type": "code",
   "execution_count": 16,
   "id": "bc6725f3",
   "metadata": {},
   "outputs": [
    {
     "data": {
      "image/png": "[encoded data removed]",
      "text/plain": [
       "<Figure size 216x432 with 1 Axes>"
      ]
     },
     "metadata": {
      "needs_background": "light"
     },
     "output_type": "display_data"
    }
   ],
   "source": [
    "coords = rules_to_coordinates(filtered_rules)\n",
    "plt.figure(figsize = (3,6))\n",
    "parallel_coordinates(coords,'rule')\n",
    "plt.legend([])\n",
    "plt.show()"
   ]
  },
  {
   "cell_type": "code",
   "execution_count": 29,
   "id": "e758d589",
   "metadata": {},
   "outputs": [],
   "source": [
    "filtered_rules['antecedents'] = filtered_rules['antecedents'].apply(lambda x : list(x)[0])\n",
    "filtered_rules['consequents'] = filtered_rules['consequents'].apply(lambda x : list(x)[0])"
   ]
  },
  {
   "cell_type": "code",
   "execution_count": 30,
   "id": "8c800e74",
   "metadata": {},
   "outputs": [],
   "source": [
    "support_table = filtered_rules.pivot(index = 'consequents', columns = 'antecedents', values = 'support')"
   ]
  },
  {
   "cell_type": "code",
   "execution_count": 31,
   "id": "e5e8a32c",
   "metadata": {},
   "outputs": [
    {
     "data": {
      "image/png": "[encoded data removed]",
      "text/plain": [
       "<Figure size 720x432 with 1 Axes>"
      ]
     },
     "metadata": {
      "needs_background": "light"
     },
     "output_type": "display_data"
    }
   ],
   "source": [
    "plt.figure(figsize = (10,6))\n",
    "sns.heatmap(support_table, annot = True, cbar = False)\n",
    "b,t = plt.ylim()\n",
    "b += 0.5\n",
    "t -= 0.5\n",
    "plt.ylim(b,t)\n",
    "plt.yticks(rotation = 0)\n",
    "plt.show()"
   ]
  },
  {
   "cell_type": "code",
   "execution_count": 34,
   "id": "7909c0a6",
   "metadata": {},
   "outputs": [],
   "source": [
    "lift_table = filtered_rules.pivot(index = 'consequents', columns = 'antecedents', values = 'lift')"
   ]
  },
  {
   "cell_type": "code",
   "execution_count": 37,
   "id": "c8a9d5af",
   "metadata": {},
   "outputs": [
    {
     "data": {
      "image/png": "[encoded data removed]",
      "text/plain": [
       "<Figure size 720x576 with 1 Axes>"
      ]
     },
     "metadata": {
      "needs_background": "light"
     },
     "output_type": "display_data"
    }
   ],
   "source": [
    "plt.figure(figsize = (10,8))\n",
    "sns.heatmap(lift_table, annot = True, cbar = False)\n",
    "b,t = plt.ylim()\n",
    "b += 0.5\n",
    "t -= 0.5\n",
    "plt.ylim(b,t)\n",
    "plt.yticks(rotation = 0)\n",
    "plt.xticks(rotation = 90)\n",
    "plt.show()"
   ]
  },
  {
   "cell_type": "code",
   "execution_count": 38,
   "id": "3709f069",
   "metadata": {},
   "outputs": [],
   "source": [
    "import plotly.express as px"
   ]
  },
  {
   "cell_type": "code",
   "execution_count": 49,
   "id": "08dcbe67",
   "metadata": {},
   "outputs": [
    {
     "data": {
      "application/vnd.plotly.v1+json": {
       "config": {
        "plotlyServerURL": "https://plot.ly"
       },
       "data": [
        {
         "dimensions": [
          {
           "label": "antecedents",
           "values": [
            "Butter",
            "Ice cream",
            "Butter",
            "Kidney Beans",
            "Butter",
            "Milk",
            "Nutmeg",
            "Butter",
            "Butter",
            "Onion",
            "Butter",
            "Sugar",
            "Butter",
            "chocolate",
            "Kidney Beans",
            "Cheese",
            "Corn",
            "Kidney Beans",
            "Dill",
            "chocolate",
            "Kidney Beans",
            "Ice cream",
            "Ice cream",
            "Sugar",
            "Ice cream",
            "chocolate",
            "Kidney Beans",
            "Milk",
            "Milk",
            "chocolate",
            "Nutmeg",
            "Onion",
            "Onion",
            "chocolate",
            "Yogurt",
            "chocolate"
           ]
          },
          {
           "label": "consequents",
           "values": [
            "Ice cream",
            "Butter",
            "Kidney Beans",
            "Butter",
            "Milk",
            "Butter",
            "Butter",
            "Nutmeg",
            "Onion",
            "Butter",
            "Sugar",
            "Butter",
            "chocolate",
            "Butter",
            "Cheese",
            "Kidney Beans",
            "Kidney Beans",
            "Corn",
            "chocolate",
            "Dill",
            "Ice cream",
            "Kidney Beans",
            "Sugar",
            "Ice cream",
            "chocolate",
            "Ice cream",
            "Milk",
            "Kidney Beans",
            "chocolate",
            "Milk",
            "Onion",
            "Nutmeg",
            "chocolate",
            "Onion",
            "chocolate",
            "Yogurt"
           ]
          }
         ],
         "domain": {
          "x": [
           0,
           1
          ],
          "y": [
           0,
           1
          ]
         },
         "name": "",
         "type": "parcats"
        }
       ],
       "layout": {
        "legend": {
         "tracegroupgap": 0
        },
        "margin": {
         "t": 60
        },
        "template": {
         "data": {
          "bar": [
           {
            "error_x": {
             "color": "#2a3f5f"
            },
            "error_y": {
             "color": "#2a3f5f"
            },
            "marker": {
             "line": {
              "color": "#E5ECF6",
              "width": 0.5
             },
             "pattern": {
              "fillmode": "overlay",
              "size": 10,
              "solidity": 0.2
             }
            },
            "type": "bar"
           }
          ],
          "barpolar": [
           {
            "marker": {
             "line": {
              "color": "#E5ECF6",
              "width": 0.5
             },
             "pattern": {
              "fillmode": "overlay",
              "size": 10,
              "solidity": 0.2
             }
            },
            "type": "barpolar"
           }
          ],
          "carpet": [
           {
            "aaxis": {
             "endlinecolor": "#2a3f5f",
             "gridcolor": "white",
             "linecolor": "white",
             "minorgridcolor": "white",
             "startlinecolor": "#2a3f5f"
            },
            "baxis": {
             "endlinecolor": "#2a3f5f",
             "gridcolor": "white",
             "linecolor": "white",
             "minorgridcolor": "white",
             "startlinecolor": "#2a3f5f"
            },
            "type": "carpet"
           }
          ],
          "choropleth": [
           {
            "colorbar": {
             "outlinewidth": 0,
             "ticks": ""
            },
            "type": "choropleth"
           }
          ],
          "contour": [
           {
            "colorbar": {
             "outlinewidth": 0,
             "ticks": ""
            },
            "colorscale": [
             [
              0,
              "#0d0887"
             ],
             [
              0.1111111111111111,
              "#46039f"
             ],
             [
              0.2222222222222222,
              "#7201a8"
             ],
             [
              0.3333333333333333,
              "#9c179e"
             ],
             [
              0.4444444444444444,
              "#bd3786"
             ],
             [
              0.5555555555555556,
              "#d8576b"
             ],
             [
              0.6666666666666666,
              "#ed7953"
             ],
             [
              0.7777777777777778,
              "#fb9f3a"
             ],
             [
              0.8888888888888888,
              "#fdca26"
             ],
             [
              1,
              "#f0f921"
             ]
            ],
            "type": "contour"
           }
          ],
          "contourcarpet": [
           {
            "colorbar": {
             "outlinewidth": 0,
             "ticks": ""
            },
            "type": "contourcarpet"
           }
          ],
          "heatmap": [
           {
            "colorbar": {
             "outlinewidth": 0,
             "ticks": ""
            },
            "colorscale": [
             [
              0,
              "#0d0887"
             ],
             [
              0.1111111111111111,
              "#46039f"
             ],
             [
              0.2222222222222222,
              "#7201a8"
             ],
             [
              0.3333333333333333,
              "#9c179e"
             ],
             [
              0.4444444444444444,
              "#bd3786"
             ],
             [
              0.5555555555555556,
              "#d8576b"
             ],
             [
              0.6666666666666666,
              "#ed7953"
             ],
             [
              0.7777777777777778,
              "#fb9f3a"
             ],
             [
              0.8888888888888888,
              "#fdca26"
             ],
             [
              1,
              "#f0f921"
             ]
            ],
            "type": "heatmap"
           }
          ],
          "heatmapgl": [
           {
            "colorbar": {
             "outlinewidth": 0,
             "ticks": ""
            },
            "colorscale": [
             [
              0,
              "#0d0887"
             ],
             [
              0.1111111111111111,
              "#46039f"
             ],
             [
              0.2222222222222222,
              "#7201a8"
             ],
             [
              0.3333333333333333,
              "#9c179e"
             ],
             [
              0.4444444444444444,
              "#bd3786"
             ],
             [
              0.5555555555555556,
              "#d8576b"
             ],
             [
              0.6666666666666666,
              "#ed7953"
             ],
             [
              0.7777777777777778,
              "#fb9f3a"
             ],
             [
              0.8888888888888888,
              "#fdca26"
             ],
             [
              1,
              "#f0f921"
             ]
            ],
            "type": "heatmapgl"
           }
          ],
          "histogram": [
           {
            "marker": {
             "pattern": {
              "fillmode": "overlay",
              "size": 10,
              "solidity": 0.2
             }
            },
            "type": "histogram"
           }
          ],
          "histogram2d": [
           {
            "colorbar": {
             "outlinewidth": 0,
             "ticks": ""
            },
            "colorscale": [
             [
              0,
              "#0d0887"
             ],
             [
              0.1111111111111111,
              "#46039f"
             ],
             [
              0.2222222222222222,
              "#7201a8"
             ],
             [
              0.3333333333333333,
              "#9c179e"
             ],
             [
              0.4444444444444444,
              "#bd3786"
             ],
             [
              0.5555555555555556,
              "#d8576b"
             ],
             [
              0.6666666666666666,
              "#ed7953"
             ],
             [
              0.7777777777777778,
              "#fb9f3a"
             ],
             [
              0.8888888888888888,
              "#fdca26"
             ],
             [
              1,
              "#f0f921"
             ]
            ],
            "type": "histogram2d"
           }
          ],
          "histogram2dcontour": [
           {
            "colorbar": {
             "outlinewidth": 0,
             "ticks": ""
            },
            "colorscale": [
             [
              0,
              "#0d0887"
             ],
             [
              0.1111111111111111,
              "#46039f"
             ],
             [
              0.2222222222222222,
              "#7201a8"
             ],
             [
              0.3333333333333333,
              "#9c179e"
             ],
             [
              0.4444444444444444,
              "#bd3786"
             ],
             [
              0.5555555555555556,
              "#d8576b"
             ],
             [
              0.6666666666666666,
              "#ed7953"
             ],
             [
              0.7777777777777778,
              "#fb9f3a"
             ],
             [
              0.8888888888888888,
              "#fdca26"
             ],
             [
              1,
              "#f0f921"
             ]
            ],
            "type": "histogram2dcontour"
           }
          ],
          "mesh3d": [
           {
            "colorbar": {
             "outlinewidth": 0,
             "ticks": ""
            },
            "type": "mesh3d"
           }
          ],
          "parcoords": [
           {
            "line": {
             "colorbar": {
              "outlinewidth": 0,
              "ticks": ""
             }
            },
            "type": "parcoords"
           }
          ],
          "pie": [
           {
            "automargin": true,
            "type": "pie"
           }
          ],
          "scatter": [
           {
            "fillpattern": {
             "fillmode": "overlay",
             "size": 10,
             "solidity": 0.2
            },
            "type": "scatter"
           }
          ],
          "scatter3d": [
           {
            "line": {
             "colorbar": {
              "outlinewidth": 0,
              "ticks": ""
             }
            },
            "marker": {
             "colorbar": {
              "outlinewidth": 0,
              "ticks": ""
             }
            },
            "type": "scatter3d"
           }
          ],
          "scattercarpet": [
           {
            "marker": {
             "colorbar": {
              "outlinewidth": 0,
              "ticks": ""
             }
            },
            "type": "scattercarpet"
           }
          ],
          "scattergeo": [
           {
            "marker": {
             "colorbar": {
              "outlinewidth": 0,
              "ticks": ""
             }
            },
            "type": "scattergeo"
           }
          ],
          "scattergl": [
           {
            "marker": {
             "colorbar": {
              "outlinewidth": 0,
              "ticks": ""
             }
            },
            "type": "scattergl"
           }
          ],
          "scattermapbox": [
           {
            "marker": {
             "colorbar": {
              "outlinewidth": 0,
              "ticks": ""
             }
            },
            "type": "scattermapbox"
           }
          ],
          "scatterpolar": [
           {
            "marker": {
             "colorbar": {
              "outlinewidth": 0,
              "ticks": ""
             }
            },
            "type": "scatterpolar"
           }
          ],
          "scatterpolargl": [
           {
            "marker": {
             "colorbar": {
              "outlinewidth": 0,
              "ticks": ""
             }
            },
            "type": "scatterpolargl"
           }
          ],
          "scatterternary": [
           {
            "marker": {
             "colorbar": {
              "outlinewidth": 0,
              "ticks": ""
             }
            },
            "type": "scatterternary"
           }
          ],
          "surface": [
           {
            "colorbar": {
             "outlinewidth": 0,
             "ticks": ""
            },
            "colorscale": [
             [
              0,
              "#0d0887"
             ],
             [
              0.1111111111111111,
              "#46039f"
             ],
             [
              0.2222222222222222,
              "#7201a8"
             ],
             [
              0.3333333333333333,
              "#9c179e"
             ],
             [
              0.4444444444444444,
              "#bd3786"
             ],
             [
              0.5555555555555556,
              "#d8576b"
             ],
             [
              0.6666666666666666,
              "#ed7953"
             ],
             [
              0.7777777777777778,
              "#fb9f3a"
             ],
             [
              0.8888888888888888,
              "#fdca26"
             ],
             [
              1,
              "#f0f921"
             ]
            ],
            "type": "surface"
           }
          ],
          "table": [
           {
            "cells": {
             "fill": {
              "color": "#EBF0F8"
             },
             "line": {
              "color": "white"
             }
            },
            "header": {
             "fill": {
              "color": "#C8D4E3"
             },
             "line": {
              "color": "white"
             }
            },
            "type": "table"
           }
          ]
         },
         "layout": {
          "annotationdefaults": {
           "arrowcolor": "#2a3f5f",
           "arrowhead": 0,
           "arrowwidth": 1
          },
          "autotypenumbers": "strict",
          "coloraxis": {
           "colorbar": {
            "outlinewidth": 0,
            "ticks": ""
           }
          },
          "colorscale": {
           "diverging": [
            [
             0,
             "#8e0152"
            ],
            [
             0.1,
             "#c51b7d"
            ],
            [
             0.2,
             "#de77ae"
            ],
            [
             0.3,
             "#f1b6da"
            ],
            [
             0.4,
             "#fde0ef"
            ],
            [
             0.5,
             "#f7f7f7"
            ],
            [
             0.6,
             "#e6f5d0"
            ],
            [
             0.7,
             "#b8e186"
            ],
            [
             0.8,
             "#7fbc41"
            ],
            [
             0.9,
             "#4d9221"
            ],
            [
             1,
             "#276419"
            ]
           ],
           "sequential": [
            [
             0,
             "#0d0887"
            ],
            [
             0.1111111111111111,
             "#46039f"
            ],
            [
             0.2222222222222222,
             "#7201a8"
            ],
            [
             0.3333333333333333,
             "#9c179e"
            ],
            [
             0.4444444444444444,
             "#bd3786"
            ],
            [
             0.5555555555555556,
             "#d8576b"
            ],
            [
             0.6666666666666666,
             "#ed7953"
            ],
            [
             0.7777777777777778,
             "#fb9f3a"
            ],
            [
             0.8888888888888888,
             "#fdca26"
            ],
            [
             1,
             "#f0f921"
            ]
           ],
           "sequentialminus": [
            [
             0,
             "#0d0887"
            ],
            [
             0.1111111111111111,
             "#46039f"
            ],
            [
             0.2222222222222222,
             "#7201a8"
            ],
            [
             0.3333333333333333,
             "#9c179e"
            ],
            [
             0.4444444444444444,
             "#bd3786"
            ],
            [
             0.5555555555555556,
             "#d8576b"
            ],
            [
             0.6666666666666666,
             "#ed7953"
            ],
            [
             0.7777777777777778,
             "#fb9f3a"
            ],
            [
             0.8888888888888888,
             "#fdca26"
            ],
            [
             1,
             "#f0f921"
            ]
           ]
          },
          "colorway": [
           "#636efa",
           "#EF553B",
           "#00cc96",
           "#ab63fa",
           "#FFA15A",
           "#19d3f3",
           "#FF6692",
           "#B6E880",
           "#FF97FF",
           "#FECB52"
          ],
          "font": {
           "color": "#2a3f5f"
          },
          "geo": {
           "bgcolor": "white",
           "lakecolor": "white",
           "landcolor": "#E5ECF6",
           "showlakes": true,
           "showland": true,
           "subunitcolor": "white"
          },
          "hoverlabel": {
           "align": "left"
          },
          "hovermode": "closest",
          "mapbox": {
           "style": "light"
          },
          "paper_bgcolor": "white",
          "plot_bgcolor": "#E5ECF6",
          "polar": {
           "angularaxis": {
            "gridcolor": "white",
            "linecolor": "white",
            "ticks": ""
           },
           "bgcolor": "#E5ECF6",
           "radialaxis": {
            "gridcolor": "white",
            "linecolor": "white",
            "ticks": ""
           }
          },
          "scene": {
           "xaxis": {
            "backgroundcolor": "#E5ECF6",
            "gridcolor": "white",
            "gridwidth": 2,
            "linecolor": "white",
            "showbackground": true,
            "ticks": "",
            "zerolinecolor": "white"
           },
           "yaxis": {
            "backgroundcolor": "#E5ECF6",
            "gridcolor": "white",
            "gridwidth": 2,
            "linecolor": "white",
            "showbackground": true,
            "ticks": "",
            "zerolinecolor": "white"
           },
           "zaxis": {
            "backgroundcolor": "#E5ECF6",
            "gridcolor": "white",
            "gridwidth": 2,
            "linecolor": "white",
            "showbackground": true,
            "ticks": "",
            "zerolinecolor": "white"
           }
          },
          "shapedefaults": {
           "line": {
            "color": "#2a3f5f"
           }
          },
          "ternary": {
           "aaxis": {
            "gridcolor": "white",
            "linecolor": "white",
            "ticks": ""
           },
           "baxis": {
            "gridcolor": "white",
            "linecolor": "white",
            "ticks": ""
           },
           "bgcolor": "#E5ECF6",
           "caxis": {
            "gridcolor": "white",
            "linecolor": "white",
            "ticks": ""
           }
          },
          "title": {
           "x": 0.05
          },
          "xaxis": {
           "automargin": true,
           "gridcolor": "white",
           "linecolor": "white",
           "ticks": "",
           "title": {
            "standoff": 15
           },
           "zerolinecolor": "white",
           "zerolinewidth": 2
          },
          "yaxis": {
           "automargin": true,
           "gridcolor": "white",
           "linecolor": "white",
           "ticks": "",
           "title": {
            "standoff": 15
           },
           "zerolinecolor": "white",
           "zerolinewidth": 2
          }
         }
        }
       }
      },
      "text/html": [
       "<div>                            <div id=\"91e1d5e0-ec3d-45b8-b3da-9ba414413c93\" class=\"plotly-graph-div\" style=\"height:525px; width:100%;\"></div>            <script type=\"text/javascript\">                require([\"plotly\"], function(Plotly) {                    window.PLOTLYENV=window.PLOTLYENV || {};                                    if (document.getElementById(\"91e1d5e0-ec3d-45b8-b3da-9ba414413c93\")) {                    Plotly.newPlot(                        \"91e1d5e0-ec3d-45b8-b3da-9ba414413c93\",                        [{\"dimensions\":[{\"label\":\"antecedents\",\"values\":[\"Butter\",\"Ice cream\",\"Butter\",\"Kidney Beans\",\"Butter\",\"Milk\",\"Nutmeg\",\"Butter\",\"Butter\",\"Onion\",\"Butter\",\"Sugar\",\"Butter\",\"chocolate\",\"Kidney Beans\",\"Cheese\",\"Corn\",\"Kidney Beans\",\"Dill\",\"chocolate\",\"Kidney Beans\",\"Ice cream\",\"Ice cream\",\"Sugar\",\"Ice cream\",\"chocolate\",\"Kidney Beans\",\"Milk\",\"Milk\",\"chocolate\",\"Nutmeg\",\"Onion\",\"Onion\",\"chocolate\",\"Yogurt\",\"chocolate\"]},{\"label\":\"consequents\",\"values\":[\"Ice cream\",\"Butter\",\"Kidney Beans\",\"Butter\",\"Milk\",\"Butter\",\"Butter\",\"Nutmeg\",\"Onion\",\"Butter\",\"Sugar\",\"Butter\",\"chocolate\",\"Butter\",\"Cheese\",\"Kidney Beans\",\"Kidney Beans\",\"Corn\",\"chocolate\",\"Dill\",\"Ice cream\",\"Kidney Beans\",\"Sugar\",\"Ice cream\",\"chocolate\",\"Ice cream\",\"Milk\",\"Kidney Beans\",\"chocolate\",\"Milk\",\"Onion\",\"Nutmeg\",\"chocolate\",\"Onion\",\"chocolate\",\"Yogurt\"]}],\"domain\":{\"x\":[0.0,1.0],\"y\":[0.0,1.0]},\"name\":\"\",\"type\":\"parcats\"}],                        {\"template\":{\"data\":{\"histogram2dcontour\":[{\"type\":\"histogram2dcontour\",\"colorbar\":{\"outlinewidth\":0,\"ticks\":\"\"},\"colorscale\":[[0.0,\"#0d0887\"],[0.1111111111111111,\"#46039f\"],[0.2222222222222222,\"#7201a8\"],[0.3333333333333333,\"#9c179e\"],[0.4444444444444444,\"#bd3786\"],[0.5555555555555556,\"#d8576b\"],[0.6666666666666666,\"#ed7953\"],[0.7777777777777778,\"#fb9f3a\"],[0.8888888888888888,\"#fdca26\"],[1.0,\"#f0f921\"]]}],\"choropleth\":[{\"type\":\"choropleth\",\"colorbar\":{\"outlinewidth\":0,\"ticks\":\"\"}}],\"histogram2d\":[{\"type\":\"histogram2d\",\"colorbar\":{\"outlinewidth\":0,\"ticks\":\"\"},\"colorscale\":[[0.0,\"#0d0887\"],[0.1111111111111111,\"#46039f\"],[0.2222222222222222,\"#7201a8\"],[0.3333333333333333,\"#9c179e\"],[0.4444444444444444,\"#bd3786\"],[0.5555555555555556,\"#d8576b\"],[0.6666666666666666,\"#ed7953\"],[0.7777777777777778,\"#fb9f3a\"],[0.8888888888888888,\"#fdca26\"],[1.0,\"#f0f921\"]]}],\"heatmap\":[{\"type\":\"heatmap\",\"colorbar\":{\"outlinewidth\":0,\"ticks\":\"\"},\"colorscale\":[[0.0,\"#0d0887\"],[0.1111111111111111,\"#46039f\"],[0.2222222222222222,\"#7201a8\"],[0.3333333333333333,\"#9c179e\"],[0.4444444444444444,\"#bd3786\"],[0.5555555555555556,\"#d8576b\"],[0.6666666666666666,\"#ed7953\"],[0.7777777777777778,\"#fb9f3a\"],[0.8888888888888888,\"#fdca26\"],[1.0,\"#f0f921\"]]}],\"heatmapgl\":[{\"type\":\"heatmapgl\",\"colorbar\":{\"outlinewidth\":0,\"ticks\":\"\"},\"colorscale\":[[0.0,\"#0d0887\"],[0.1111111111111111,\"#46039f\"],[0.2222222222222222,\"#7201a8\"],[0.3333333333333333,\"#9c179e\"],[0.4444444444444444,\"#bd3786\"],[0.5555555555555556,\"#d8576b\"],[0.6666666666666666,\"#ed7953\"],[0.7777777777777778,\"#fb9f3a\"],[0.8888888888888888,\"#fdca26\"],[1.0,\"#f0f921\"]]}],\"contourcarpet\":[{\"type\":\"contourcarpet\",\"colorbar\":{\"outlinewidth\":0,\"ticks\":\"\"}}],\"contour\":[{\"type\":\"contour\",\"colorbar\":{\"outlinewidth\":0,\"ticks\":\"\"},\"colorscale\":[[0.0,\"#0d0887\"],[0.1111111111111111,\"#46039f\"],[0.2222222222222222,\"#7201a8\"],[0.3333333333333333,\"#9c179e\"],[0.4444444444444444,\"#bd3786\"],[0.5555555555555556,\"#d8576b\"],[0.6666666666666666,\"#ed7953\"],[0.7777777777777778,\"#fb9f3a\"],[0.8888888888888888,\"#fdca26\"],[1.0,\"#f0f921\"]]}],\"surface\":[{\"type\":\"surface\",\"colorbar\":{\"outlinewidth\":0,\"ticks\":\"\"},\"colorscale\":[[0.0,\"#0d0887\"],[0.1111111111111111,\"#46039f\"],[0.2222222222222222,\"#7201a8\"],[0.3333333333333333,\"#9c179e\"],[0.4444444444444444,\"#bd3786\"],[0.5555555555555556,\"#d8576b\"],[0.6666666666666666,\"#ed7953\"],[0.7777777777777778,\"#fb9f3a\"],[0.8888888888888888,\"#fdca26\"],[1.0,\"#f0f921\"]]}],\"mesh3d\":[{\"type\":\"mesh3d\",\"colorbar\":{\"outlinewidth\":0,\"ticks\":\"\"}}],\"scatter\":[{\"fillpattern\":{\"fillmode\":\"overlay\",\"size\":10,\"solidity\":0.2},\"type\":\"scatter\"}],\"parcoords\":[{\"type\":\"parcoords\",\"line\":{\"colorbar\":{\"outlinewidth\":0,\"ticks\":\"\"}}}],\"scatterpolargl\":[{\"type\":\"scatterpolargl\",\"marker\":{\"colorbar\":{\"outlinewidth\":0,\"ticks\":\"\"}}}],\"bar\":[{\"error_x\":{\"color\":\"#2a3f5f\"},\"error_y\":{\"color\":\"#2a3f5f\"},\"marker\":{\"line\":{\"color\":\"#E5ECF6\",\"width\":0.5},\"pattern\":{\"fillmode\":\"overlay\",\"size\":10,\"solidity\":0.2}},\"type\":\"bar\"}],\"scattergeo\":[{\"type\":\"scattergeo\",\"marker\":{\"colorbar\":{\"outlinewidth\":0,\"ticks\":\"\"}}}],\"scatterpolar\":[{\"type\":\"scatterpolar\",\"marker\":{\"colorbar\":{\"outlinewidth\":0,\"ticks\":\"\"}}}],\"histogram\":[{\"marker\":{\"pattern\":{\"fillmode\":\"overlay\",\"size\":10,\"solidity\":0.2}},\"type\":\"histogram\"}],\"scattergl\":[{\"type\":\"scattergl\",\"marker\":{\"colorbar\":{\"outlinewidth\":0,\"ticks\":\"\"}}}],\"scatter3d\":[{\"type\":\"scatter3d\",\"line\":{\"colorbar\":{\"outlinewidth\":0,\"ticks\":\"\"}},\"marker\":{\"colorbar\":{\"outlinewidth\":0,\"ticks\":\"\"}}}],\"scattermapbox\":[{\"type\":\"scattermapbox\",\"marker\":{\"colorbar\":{\"outlinewidth\":0,\"ticks\":\"\"}}}],\"scatterternary\":[{\"type\":\"scatterternary\",\"marker\":{\"colorbar\":{\"outlinewidth\":0,\"ticks\":\"\"}}}],\"scattercarpet\":[{\"type\":\"scattercarpet\",\"marker\":{\"colorbar\":{\"outlinewidth\":0,\"ticks\":\"\"}}}],\"carpet\":[{\"aaxis\":{\"endlinecolor\":\"#2a3f5f\",\"gridcolor\":\"white\",\"linecolor\":\"white\",\"minorgridcolor\":\"white\",\"startlinecolor\":\"#2a3f5f\"},\"baxis\":{\"endlinecolor\":\"#2a3f5f\",\"gridcolor\":\"white\",\"linecolor\":\"white\",\"minorgridcolor\":\"white\",\"startlinecolor\":\"#2a3f5f\"},\"type\":\"carpet\"}],\"table\":[{\"cells\":{\"fill\":{\"color\":\"#EBF0F8\"},\"line\":{\"color\":\"white\"}},\"header\":{\"fill\":{\"color\":\"#C8D4E3\"},\"line\":{\"color\":\"white\"}},\"type\":\"table\"}],\"barpolar\":[{\"marker\":{\"line\":{\"color\":\"#E5ECF6\",\"width\":0.5},\"pattern\":{\"fillmode\":\"overlay\",\"size\":10,\"solidity\":0.2}},\"type\":\"barpolar\"}],\"pie\":[{\"automargin\":true,\"type\":\"pie\"}]},\"layout\":{\"autotypenumbers\":\"strict\",\"colorway\":[\"#636efa\",\"#EF553B\",\"#00cc96\",\"#ab63fa\",\"#FFA15A\",\"#19d3f3\",\"#FF6692\",\"#B6E880\",\"#FF97FF\",\"#FECB52\"],\"font\":{\"color\":\"#2a3f5f\"},\"hovermode\":\"closest\",\"hoverlabel\":{\"align\":\"left\"},\"paper_bgcolor\":\"white\",\"plot_bgcolor\":\"#E5ECF6\",\"polar\":{\"bgcolor\":\"#E5ECF6\",\"angularaxis\":{\"gridcolor\":\"white\",\"linecolor\":\"white\",\"ticks\":\"\"},\"radialaxis\":{\"gridcolor\":\"white\",\"linecolor\":\"white\",\"ticks\":\"\"}},\"ternary\":{\"bgcolor\":\"#E5ECF6\",\"aaxis\":{\"gridcolor\":\"white\",\"linecolor\":\"white\",\"ticks\":\"\"},\"baxis\":{\"gridcolor\":\"white\",\"linecolor\":\"white\",\"ticks\":\"\"},\"caxis\":{\"gridcolor\":\"white\",\"linecolor\":\"white\",\"ticks\":\"\"}},\"coloraxis\":{\"colorbar\":{\"outlinewidth\":0,\"ticks\":\"\"}},\"colorscale\":{\"sequential\":[[0.0,\"#0d0887\"],[0.1111111111111111,\"#46039f\"],[0.2222222222222222,\"#7201a8\"],[0.3333333333333333,\"#9c179e\"],[0.4444444444444444,\"#bd3786\"],[0.5555555555555556,\"#d8576b\"],[0.6666666666666666,\"#ed7953\"],[0.7777777777777778,\"#fb9f3a\"],[0.8888888888888888,\"#fdca26\"],[1.0,\"#f0f921\"]],\"sequentialminus\":[[0.0,\"#0d0887\"],[0.1111111111111111,\"#46039f\"],[0.2222222222222222,\"#7201a8\"],[0.3333333333333333,\"#9c179e\"],[0.4444444444444444,\"#bd3786\"],[0.5555555555555556,\"#d8576b\"],[0.6666666666666666,\"#ed7953\"],[0.7777777777777778,\"#fb9f3a\"],[0.8888888888888888,\"#fdca26\"],[1.0,\"#f0f921\"]],\"diverging\":[[0,\"#8e0152\"],[0.1,\"#c51b7d\"],[0.2,\"#de77ae\"],[0.3,\"#f1b6da\"],[0.4,\"#fde0ef\"],[0.5,\"#f7f7f7\"],[0.6,\"#e6f5d0\"],[0.7,\"#b8e186\"],[0.8,\"#7fbc41\"],[0.9,\"#4d9221\"],[1,\"#276419\"]]},\"xaxis\":{\"gridcolor\":\"white\",\"linecolor\":\"white\",\"ticks\":\"\",\"title\":{\"standoff\":15},\"zerolinecolor\":\"white\",\"automargin\":true,\"zerolinewidth\":2},\"yaxis\":{\"gridcolor\":\"white\",\"linecolor\":\"white\",\"ticks\":\"\",\"title\":{\"standoff\":15},\"zerolinecolor\":\"white\",\"automargin\":true,\"zerolinewidth\":2},\"scene\":{\"xaxis\":{\"backgroundcolor\":\"#E5ECF6\",\"gridcolor\":\"white\",\"linecolor\":\"white\",\"showbackground\":true,\"ticks\":\"\",\"zerolinecolor\":\"white\",\"gridwidth\":2},\"yaxis\":{\"backgroundcolor\":\"#E5ECF6\",\"gridcolor\":\"white\",\"linecolor\":\"white\",\"showbackground\":true,\"ticks\":\"\",\"zerolinecolor\":\"white\",\"gridwidth\":2},\"zaxis\":{\"backgroundcolor\":\"#E5ECF6\",\"gridcolor\":\"white\",\"linecolor\":\"white\",\"showbackground\":true,\"ticks\":\"\",\"zerolinecolor\":\"white\",\"gridwidth\":2}},\"shapedefaults\":{\"line\":{\"color\":\"#2a3f5f\"}},\"annotationdefaults\":{\"arrowcolor\":\"#2a3f5f\",\"arrowhead\":0,\"arrowwidth\":1},\"geo\":{\"bgcolor\":\"white\",\"landcolor\":\"#E5ECF6\",\"subunitcolor\":\"white\",\"showland\":true,\"showlakes\":true,\"lakecolor\":\"white\"},\"title\":{\"x\":0.05},\"mapbox\":{\"style\":\"light\"}}},\"legend\":{\"tracegroupgap\":0},\"margin\":{\"t\":60}},                        {\"responsive\": true}                    ).then(function(){\n",
       "                            \n",
       "var gd = document.getElementById('91e1d5e0-ec3d-45b8-b3da-9ba414413c93');\n",
       "var x = new MutationObserver(function (mutations, observer) {{\n",
       "        var display = window.getComputedStyle(gd).display;\n",
       "        if (!display || display === 'none') {{\n",
       "            console.log([gd, 'removed!']);\n",
       "            Plotly.purge(gd);\n",
       "            observer.disconnect();\n",
       "        }}\n",
       "}});\n",
       "\n",
       "// Listen for the removal of the full notebook cells\n",
       "var notebookContainer = gd.closest('#notebook-container');\n",
       "if (notebookContainer) {{\n",
       "    x.observe(notebookContainer, {childList: true});\n",
       "}}\n",
       "\n",
       "// Listen for the clearing of the current output cell\n",
       "var outputEl = gd.closest('.output');\n",
       "if (outputEl) {{\n",
       "    x.observe(outputEl, {childList: true});\n",
       "}}\n",
       "\n",
       "                        })                };                });            </script>        </div>"
      ]
     },
     "metadata": {},
     "output_type": "display_data"
    }
   ],
   "source": [
    "fig = px.parallel_categories(filtered_rules, dimensions = ['antecedents', 'consequents'])\n",
    "fig.show()"
   ]
  },
  {
   "cell_type": "code",
   "execution_count": 61,
   "id": "4e87330b",
   "metadata": {},
   "outputs": [
    {
     "data": {
      "application/vnd.plotly.v1+json": {
       "config": {
        "plotlyServerURL": "https://plot.ly"
       },
       "data": [
        {
         "dimensions": [
          {
           "label": "antecedents",
           "values": [
            "Butter",
            "Ice cream",
            "Butter",
            "Kidney Beans",
            "Butter",
            "Milk",
            "Nutmeg",
            "Butter",
            "Butter",
            "Onion",
            "Butter",
            "Sugar",
            "Butter",
            "chocolate",
            "Kidney Beans",
            "Cheese",
            "Corn",
            "Kidney Beans",
            "Dill",
            "chocolate",
            "Kidney Beans",
            "Ice cream",
            "Ice cream",
            "Sugar",
            "Ice cream",
            "chocolate",
            "Kidney Beans",
            "Milk",
            "Milk",
            "chocolate",
            "Nutmeg",
            "Onion",
            "Onion",
            "chocolate",
            "Yogurt",
            "chocolate"
           ]
          },
          {
           "label": "consequents",
           "values": [
            "Ice cream",
            "Butter",
            "Kidney Beans",
            "Butter",
            "Milk",
            "Butter",
            "Butter",
            "Nutmeg",
            "Onion",
            "Butter",
            "Sugar",
            "Butter",
            "chocolate",
            "Butter",
            "Cheese",
            "Kidney Beans",
            "Kidney Beans",
            "Corn",
            "chocolate",
            "Dill",
            "Ice cream",
            "Kidney Beans",
            "Sugar",
            "Ice cream",
            "chocolate",
            "Ice cream",
            "Milk",
            "Kidney Beans",
            "chocolate",
            "Milk",
            "Onion",
            "Nutmeg",
            "chocolate",
            "Onion",
            "chocolate",
            "Yogurt"
           ]
          },
          {
           "label": "confidence",
           "values": [
            0.4928571428571428,
            0.5048780487804878,
            0.4809523809523809,
            0.49509803921568624,
            0.4714285714285714,
            0.4888888888888889,
            0.4937655860349127,
            0.4714285714285714,
            0.46904761904761905,
            0.488833746898263,
            0.4666666666666666,
            0.4792176039119804,
            0.4809523809523809,
            0.47980997624703087,
            0.4901960784313726,
            0.4950495049504951,
            0.4791154791154791,
            0.4779411764705882,
            0.5,
            0.47268408551068886,
            0.48039215686274506,
            0.47804878048780486,
            0.4756097560975609,
            0.4767726161369193,
            0.49268292682926823,
            0.47980997624703087,
            0.4877450980392157,
            0.49135802469135803,
            0.5209876543209877,
            0.501187648456057,
            0.48628428927680795,
            0.48387096774193544,
            0.48635235732009924,
            0.4655581947743468,
            0.4714285714285714,
            0.47030878859857483
           ]
          }
         ],
         "domain": {
          "x": [
           0,
           1
          ],
          "y": [
           0,
           1
          ]
         },
         "line": {
          "color": [
           0.4928571428571428,
           0.5048780487804878,
           0.4809523809523809,
           0.49509803921568624,
           0.4714285714285714,
           0.4888888888888889,
           0.4937655860349127,
           0.4714285714285714,
           0.46904761904761905,
           0.488833746898263,
           0.4666666666666666,
           0.4792176039119804,
           0.4809523809523809,
           0.47980997624703087,
           0.4901960784313726,
           0.4950495049504951,
           0.4791154791154791,
           0.4779411764705882,
           0.5,
           0.47268408551068886,
           0.48039215686274506,
           0.47804878048780486,
           0.4756097560975609,
           0.4767726161369193,
           0.49268292682926823,
           0.47980997624703087,
           0.4877450980392157,
           0.49135802469135803,
           0.5209876543209877,
           0.501187648456057,
           0.48628428927680795,
           0.48387096774193544,
           0.48635235732009924,
           0.4655581947743468,
           0.4714285714285714,
           0.47030878859857483
          ],
          "coloraxis": "coloraxis"
         },
         "name": "",
         "type": "parcats"
        }
       ],
       "layout": {
        "coloraxis": {
         "colorbar": {
          "title": {
           "text": "confidence"
          }
         },
         "colorscale": [
          [
           0,
           "#0d0887"
          ],
          [
           0.1111111111111111,
           "#46039f"
          ],
          [
           0.2222222222222222,
           "#7201a8"
          ],
          [
           0.3333333333333333,
           "#9c179e"
          ],
          [
           0.4444444444444444,
           "#bd3786"
          ],
          [
           0.5555555555555556,
           "#d8576b"
          ],
          [
           0.6666666666666666,
           "#ed7953"
          ],
          [
           0.7777777777777778,
           "#fb9f3a"
          ],
          [
           0.8888888888888888,
           "#fdca26"
          ],
          [
           1,
           "#f0f921"
          ]
         ]
        },
        "legend": {
         "tracegroupgap": 0
        },
        "margin": {
         "t": 60
        },
        "template": {
         "data": {
          "bar": [
           {
            "error_x": {
             "color": "#2a3f5f"
            },
            "error_y": {
             "color": "#2a3f5f"
            },
            "marker": {
             "line": {
              "color": "#E5ECF6",
              "width": 0.5
             },
             "pattern": {
              "fillmode": "overlay",
              "size": 10,
              "solidity": 0.2
             }
            },
            "type": "bar"
           }
          ],
          "barpolar": [
           {
            "marker": {
             "line": {
              "color": "#E5ECF6",
              "width": 0.5
             },
             "pattern": {
              "fillmode": "overlay",
              "size": 10,
              "solidity": 0.2
             }
            },
            "type": "barpolar"
           }
          ],
          "carpet": [
           {
            "aaxis": {
             "endlinecolor": "#2a3f5f",
             "gridcolor": "white",
             "linecolor": "white",
             "minorgridcolor": "white",
             "startlinecolor": "#2a3f5f"
            },
            "baxis": {
             "endlinecolor": "#2a3f5f",
             "gridcolor": "white",
             "linecolor": "white",
             "minorgridcolor": "white",
             "startlinecolor": "#2a3f5f"
            },
            "type": "carpet"
           }
          ],
          "choropleth": [
           {
            "colorbar": {
             "outlinewidth": 0,
             "ticks": ""
            },
            "type": "choropleth"
           }
          ],
          "contour": [
           {
            "colorbar": {
             "outlinewidth": 0,
             "ticks": ""
            },
            "colorscale": [
             [
              0,
              "#0d0887"
             ],
             [
              0.1111111111111111,
              "#46039f"
             ],
             [
              0.2222222222222222,
              "#7201a8"
             ],
             [
              0.3333333333333333,
              "#9c179e"
             ],
             [
              0.4444444444444444,
              "#bd3786"
             ],
             [
              0.5555555555555556,
              "#d8576b"
             ],
             [
              0.6666666666666666,
              "#ed7953"
             ],
             [
              0.7777777777777778,
              "#fb9f3a"
             ],
             [
              0.8888888888888888,
              "#fdca26"
             ],
             [
              1,
              "#f0f921"
             ]
            ],
            "type": "contour"
           }
          ],
          "contourcarpet": [
           {
            "colorbar": {
             "outlinewidth": 0,
             "ticks": ""
            },
            "type": "contourcarpet"
           }
          ],
          "heatmap": [
           {
            "colorbar": {
             "outlinewidth": 0,
             "ticks": ""
            },
            "colorscale": [
             [
              0,
              "#0d0887"
             ],
             [
              0.1111111111111111,
              "#46039f"
             ],
             [
              0.2222222222222222,
              "#7201a8"
             ],
             [
              0.3333333333333333,
              "#9c179e"
             ],
             [
              0.4444444444444444,
              "#bd3786"
             ],
             [
              0.5555555555555556,
              "#d8576b"
             ],
             [
              0.6666666666666666,
              "#ed7953"
             ],
             [
              0.7777777777777778,
              "#fb9f3a"
             ],
             [
              0.8888888888888888,
              "#fdca26"
             ],
             [
              1,
              "#f0f921"
             ]
            ],
            "type": "heatmap"
           }
          ],
          "heatmapgl": [
           {
            "colorbar": {
             "outlinewidth": 0,
             "ticks": ""
            },
            "colorscale": [
             [
              0,
              "#0d0887"
             ],
             [
              0.1111111111111111,
              "#46039f"
             ],
             [
              0.2222222222222222,
              "#7201a8"
             ],
             [
              0.3333333333333333,
              "#9c179e"
             ],
             [
              0.4444444444444444,
              "#bd3786"
             ],
             [
              0.5555555555555556,
              "#d8576b"
             ],
             [
              0.6666666666666666,
              "#ed7953"
             ],
             [
              0.7777777777777778,
              "#fb9f3a"
             ],
             [
              0.8888888888888888,
              "#fdca26"
             ],
             [
              1,
              "#f0f921"
             ]
            ],
            "type": "heatmapgl"
           }
          ],
          "histogram": [
           {
            "marker": {
             "pattern": {
              "fillmode": "overlay",
              "size": 10,
              "solidity": 0.2
             }
            },
            "type": "histogram"
           }
          ],
          "histogram2d": [
           {
            "colorbar": {
             "outlinewidth": 0,
             "ticks": ""
            },
            "colorscale": [
             [
              0,
              "#0d0887"
             ],
             [
              0.1111111111111111,
              "#46039f"
             ],
             [
              0.2222222222222222,
              "#7201a8"
             ],
             [
              0.3333333333333333,
              "#9c179e"
             ],
             [
              0.4444444444444444,
              "#bd3786"
             ],
             [
              0.5555555555555556,
              "#d8576b"
             ],
             [
              0.6666666666666666,
              "#ed7953"
             ],
             [
              0.7777777777777778,
              "#fb9f3a"
             ],
             [
              0.8888888888888888,
              "#fdca26"
             ],
             [
              1,
              "#f0f921"
             ]
            ],
            "type": "histogram2d"
           }
          ],
          "histogram2dcontour": [
           {
            "colorbar": {
             "outlinewidth": 0,
             "ticks": ""
            },
            "colorscale": [
             [
              0,
              "#0d0887"
             ],
             [
              0.1111111111111111,
              "#46039f"
             ],
             [
              0.2222222222222222,
              "#7201a8"
             ],
             [
              0.3333333333333333,
              "#9c179e"
             ],
             [
              0.4444444444444444,
              "#bd3786"
             ],
             [
              0.5555555555555556,
              "#d8576b"
             ],
             [
              0.6666666666666666,
              "#ed7953"
             ],
             [
              0.7777777777777778,
              "#fb9f3a"
             ],
             [
              0.8888888888888888,
              "#fdca26"
             ],
             [
              1,
              "#f0f921"
             ]
            ],
            "type": "histogram2dcontour"
           }
          ],
          "mesh3d": [
           {
            "colorbar": {
             "outlinewidth": 0,
             "ticks": ""
            },
            "type": "mesh3d"
           }
          ],
          "parcoords": [
           {
            "line": {
             "colorbar": {
              "outlinewidth": 0,
              "ticks": ""
             }
            },
            "type": "parcoords"
           }
          ],
          "pie": [
           {
            "automargin": true,
            "type": "pie"
           }
          ],
          "scatter": [
           {
            "fillpattern": {
             "fillmode": "overlay",
             "size": 10,
             "solidity": 0.2
            },
            "type": "scatter"
           }
          ],
          "scatter3d": [
           {
            "line": {
             "colorbar": {
              "outlinewidth": 0,
              "ticks": ""
             }
            },
            "marker": {
             "colorbar": {
              "outlinewidth": 0,
              "ticks": ""
             }
            },
            "type": "scatter3d"
           }
          ],
          "scattercarpet": [
           {
            "marker": {
             "colorbar": {
              "outlinewidth": 0,
              "ticks": ""
             }
            },
            "type": "scattercarpet"
           }
          ],
          "scattergeo": [
           {
            "marker": {
             "colorbar": {
              "outlinewidth": 0,
              "ticks": ""
             }
            },
            "type": "scattergeo"
           }
          ],
          "scattergl": [
           {
            "marker": {
             "colorbar": {
              "outlinewidth": 0,
              "ticks": ""
             }
            },
            "type": "scattergl"
           }
          ],
          "scattermapbox": [
           {
            "marker": {
             "colorbar": {
              "outlinewidth": 0,
              "ticks": ""
             }
            },
            "type": "scattermapbox"
           }
          ],
          "scatterpolar": [
           {
            "marker": {
             "colorbar": {
              "outlinewidth": 0,
              "ticks": ""
             }
            },
            "type": "scatterpolar"
           }
          ],
          "scatterpolargl": [
           {
            "marker": {
             "colorbar": {
              "outlinewidth": 0,
              "ticks": ""
             }
            },
            "type": "scatterpolargl"
           }
          ],
          "scatterternary": [
           {
            "marker": {
             "colorbar": {
              "outlinewidth": 0,
              "ticks": ""
             }
            },
            "type": "scatterternary"
           }
          ],
          "surface": [
           {
            "colorbar": {
             "outlinewidth": 0,
             "ticks": ""
            },
            "colorscale": [
             [
              0,
              "#0d0887"
             ],
             [
              0.1111111111111111,
              "#46039f"
             ],
             [
              0.2222222222222222,
              "#7201a8"
             ],
             [
              0.3333333333333333,
              "#9c179e"
             ],
             [
              0.4444444444444444,
              "#bd3786"
             ],
             [
              0.5555555555555556,
              "#d8576b"
             ],
             [
              0.6666666666666666,
              "#ed7953"
             ],
             [
              0.7777777777777778,
              "#fb9f3a"
             ],
             [
              0.8888888888888888,
              "#fdca26"
             ],
             [
              1,
              "#f0f921"
             ]
            ],
            "type": "surface"
           }
          ],
          "table": [
           {
            "cells": {
             "fill": {
              "color": "#EBF0F8"
             },
             "line": {
              "color": "white"
             }
            },
            "header": {
             "fill": {
              "color": "#C8D4E3"
             },
             "line": {
              "color": "white"
             }
            },
            "type": "table"
           }
          ]
         },
         "layout": {
          "annotationdefaults": {
           "arrowcolor": "#2a3f5f",
           "arrowhead": 0,
           "arrowwidth": 1
          },
          "autotypenumbers": "strict",
          "coloraxis": {
           "colorbar": {
            "outlinewidth": 0,
            "ticks": ""
           }
          },
          "colorscale": {
           "diverging": [
            [
             0,
             "#8e0152"
            ],
            [
             0.1,
             "#c51b7d"
            ],
            [
             0.2,
             "#de77ae"
            ],
            [
             0.3,
             "#f1b6da"
            ],
            [
             0.4,
             "#fde0ef"
            ],
            [
             0.5,
             "#f7f7f7"
            ],
            [
             0.6,
             "#e6f5d0"
            ],
            [
             0.7,
             "#b8e186"
            ],
            [
             0.8,
             "#7fbc41"
            ],
            [
             0.9,
             "#4d9221"
            ],
            [
             1,
             "#276419"
            ]
           ],
           "sequential": [
            [
             0,
             "#0d0887"
            ],
            [
             0.1111111111111111,
             "#46039f"
            ],
            [
             0.2222222222222222,
             "#7201a8"
            ],
            [
             0.3333333333333333,
             "#9c179e"
            ],
            [
             0.4444444444444444,
             "#bd3786"
            ],
            [
             0.5555555555555556,
             "#d8576b"
            ],
            [
             0.6666666666666666,
             "#ed7953"
            ],
            [
             0.7777777777777778,
             "#fb9f3a"
            ],
            [
             0.8888888888888888,
             "#fdca26"
            ],
            [
             1,
             "#f0f921"
            ]
           ],
           "sequentialminus": [
            [
             0,
             "#0d0887"
            ],
            [
             0.1111111111111111,
             "#46039f"
            ],
            [
             0.2222222222222222,
             "#7201a8"
            ],
            [
             0.3333333333333333,
             "#9c179e"
            ],
            [
             0.4444444444444444,
             "#bd3786"
            ],
            [
             0.5555555555555556,
             "#d8576b"
            ],
            [
             0.6666666666666666,
             "#ed7953"
            ],
            [
             0.7777777777777778,
             "#fb9f3a"
            ],
            [
             0.8888888888888888,
             "#fdca26"
            ],
            [
             1,
             "#f0f921"
            ]
           ]
          },
          "colorway": [
           "#636efa",
           "#EF553B",
           "#00cc96",
           "#ab63fa",
           "#FFA15A",
           "#19d3f3",
           "#FF6692",
           "#B6E880",
           "#FF97FF",
           "#FECB52"
          ],
          "font": {
           "color": "#2a3f5f"
          },
          "geo": {
           "bgcolor": "white",
           "lakecolor": "white",
           "landcolor": "#E5ECF6",
           "showlakes": true,
           "showland": true,
           "subunitcolor": "white"
          },
          "hoverlabel": {
           "align": "left"
          },
          "hovermode": "closest",
          "mapbox": {
           "style": "light"
          },
          "paper_bgcolor": "white",
          "plot_bgcolor": "#E5ECF6",
          "polar": {
           "angularaxis": {
            "gridcolor": "white",
            "linecolor": "white",
            "ticks": ""
           },
           "bgcolor": "#E5ECF6",
           "radialaxis": {
            "gridcolor": "white",
            "linecolor": "white",
            "ticks": ""
           }
          },
          "scene": {
           "xaxis": {
            "backgroundcolor": "#E5ECF6",
            "gridcolor": "white",
            "gridwidth": 2,
            "linecolor": "white",
            "showbackground": true,
            "ticks": "",
            "zerolinecolor": "white"
           },
           "yaxis": {
            "backgroundcolor": "#E5ECF6",
            "gridcolor": "white",
            "gridwidth": 2,
            "linecolor": "white",
            "showbackground": true,
            "ticks": "",
            "zerolinecolor": "white"
           },
           "zaxis": {
            "backgroundcolor": "#E5ECF6",
            "gridcolor": "white",
            "gridwidth": 2,
            "linecolor": "white",
            "showbackground": true,
            "ticks": "",
            "zerolinecolor": "white"
           }
          },
          "shapedefaults": {
           "line": {
            "color": "#2a3f5f"
           }
          },
          "ternary": {
           "aaxis": {
            "gridcolor": "white",
            "linecolor": "white",
            "ticks": ""
           },
           "baxis": {
            "gridcolor": "white",
            "linecolor": "white",
            "ticks": ""
           },
           "bgcolor": "#E5ECF6",
           "caxis": {
            "gridcolor": "white",
            "linecolor": "white",
            "ticks": ""
           }
          },
          "title": {
           "x": 0.05
          },
          "xaxis": {
           "automargin": true,
           "gridcolor": "white",
           "linecolor": "white",
           "ticks": "",
           "title": {
            "standoff": 15
           },
           "zerolinecolor": "white",
           "zerolinewidth": 2
          },
          "yaxis": {
           "automargin": true,
           "gridcolor": "white",
           "linecolor": "white",
           "ticks": "",
           "title": {
            "standoff": 15
           },
           "zerolinecolor": "white",
           "zerolinewidth": 2
          }
         }
        }
       }
      },
      "text/html": [
       "<div>                            <div id=\"4c1464ea-769b-4180-9a36-a217ef871b3c\" class=\"plotly-graph-div\" style=\"height:525px; width:100%;\"></div>            <script type=\"text/javascript\">                require([\"plotly\"], function(Plotly) {                    window.PLOTLYENV=window.PLOTLYENV || {};                                    if (document.getElementById(\"4c1464ea-769b-4180-9a36-a217ef871b3c\")) {                    Plotly.newPlot(                        \"4c1464ea-769b-4180-9a36-a217ef871b3c\",                        [{\"dimensions\":[{\"label\":\"antecedents\",\"values\":[\"Butter\",\"Ice cream\",\"Butter\",\"Kidney Beans\",\"Butter\",\"Milk\",\"Nutmeg\",\"Butter\",\"Butter\",\"Onion\",\"Butter\",\"Sugar\",\"Butter\",\"chocolate\",\"Kidney Beans\",\"Cheese\",\"Corn\",\"Kidney Beans\",\"Dill\",\"chocolate\",\"Kidney Beans\",\"Ice cream\",\"Ice cream\",\"Sugar\",\"Ice cream\",\"chocolate\",\"Kidney Beans\",\"Milk\",\"Milk\",\"chocolate\",\"Nutmeg\",\"Onion\",\"Onion\",\"chocolate\",\"Yogurt\",\"chocolate\"]},{\"label\":\"consequents\",\"values\":[\"Ice cream\",\"Butter\",\"Kidney Beans\",\"Butter\",\"Milk\",\"Butter\",\"Butter\",\"Nutmeg\",\"Onion\",\"Butter\",\"Sugar\",\"Butter\",\"chocolate\",\"Butter\",\"Cheese\",\"Kidney Beans\",\"Kidney Beans\",\"Corn\",\"chocolate\",\"Dill\",\"Ice cream\",\"Kidney Beans\",\"Sugar\",\"Ice cream\",\"chocolate\",\"Ice cream\",\"Milk\",\"Kidney Beans\",\"chocolate\",\"Milk\",\"Onion\",\"Nutmeg\",\"chocolate\",\"Onion\",\"chocolate\",\"Yogurt\"]},{\"label\":\"confidence\",\"values\":[0.4928571428571428,0.5048780487804878,0.4809523809523809,0.49509803921568624,0.4714285714285714,0.4888888888888889,0.4937655860349127,0.4714285714285714,0.46904761904761905,0.488833746898263,0.4666666666666666,0.4792176039119804,0.4809523809523809,0.47980997624703087,0.4901960784313726,0.4950495049504951,0.4791154791154791,0.4779411764705882,0.5,0.47268408551068886,0.48039215686274506,0.47804878048780486,0.4756097560975609,0.4767726161369193,0.49268292682926823,0.47980997624703087,0.4877450980392157,0.49135802469135803,0.5209876543209877,0.501187648456057,0.48628428927680795,0.48387096774193544,0.48635235732009924,0.4655581947743468,0.4714285714285714,0.47030878859857483]}],\"domain\":{\"x\":[0.0,1.0],\"y\":[0.0,1.0]},\"line\":{\"color\":[0.4928571428571428,0.5048780487804878,0.4809523809523809,0.49509803921568624,0.4714285714285714,0.4888888888888889,0.4937655860349127,0.4714285714285714,0.46904761904761905,0.488833746898263,0.4666666666666666,0.4792176039119804,0.4809523809523809,0.47980997624703087,0.4901960784313726,0.4950495049504951,0.4791154791154791,0.4779411764705882,0.5,0.47268408551068886,0.48039215686274506,0.47804878048780486,0.4756097560975609,0.4767726161369193,0.49268292682926823,0.47980997624703087,0.4877450980392157,0.49135802469135803,0.5209876543209877,0.501187648456057,0.48628428927680795,0.48387096774193544,0.48635235732009924,0.4655581947743468,0.4714285714285714,0.47030878859857483],\"coloraxis\":\"coloraxis\"},\"name\":\"\",\"type\":\"parcats\"}],                        {\"template\":{\"data\":{\"histogram2dcontour\":[{\"type\":\"histogram2dcontour\",\"colorbar\":{\"outlinewidth\":0,\"ticks\":\"\"},\"colorscale\":[[0.0,\"#0d0887\"],[0.1111111111111111,\"#46039f\"],[0.2222222222222222,\"#7201a8\"],[0.3333333333333333,\"#9c179e\"],[0.4444444444444444,\"#bd3786\"],[0.5555555555555556,\"#d8576b\"],[0.6666666666666666,\"#ed7953\"],[0.7777777777777778,\"#fb9f3a\"],[0.8888888888888888,\"#fdca26\"],[1.0,\"#f0f921\"]]}],\"choropleth\":[{\"type\":\"choropleth\",\"colorbar\":{\"outlinewidth\":0,\"ticks\":\"\"}}],\"histogram2d\":[{\"type\":\"histogram2d\",\"colorbar\":{\"outlinewidth\":0,\"ticks\":\"\"},\"colorscale\":[[0.0,\"#0d0887\"],[0.1111111111111111,\"#46039f\"],[0.2222222222222222,\"#7201a8\"],[0.3333333333333333,\"#9c179e\"],[0.4444444444444444,\"#bd3786\"],[0.5555555555555556,\"#d8576b\"],[0.6666666666666666,\"#ed7953\"],[0.7777777777777778,\"#fb9f3a\"],[0.8888888888888888,\"#fdca26\"],[1.0,\"#f0f921\"]]}],\"heatmap\":[{\"type\":\"heatmap\",\"colorbar\":{\"outlinewidth\":0,\"ticks\":\"\"},\"colorscale\":[[0.0,\"#0d0887\"],[0.1111111111111111,\"#46039f\"],[0.2222222222222222,\"#7201a8\"],[0.3333333333333333,\"#9c179e\"],[0.4444444444444444,\"#bd3786\"],[0.5555555555555556,\"#d8576b\"],[0.6666666666666666,\"#ed7953\"],[0.7777777777777778,\"#fb9f3a\"],[0.8888888888888888,\"#fdca26\"],[1.0,\"#f0f921\"]]}],\"heatmapgl\":[{\"type\":\"heatmapgl\",\"colorbar\":{\"outlinewidth\":0,\"ticks\":\"\"},\"colorscale\":[[0.0,\"#0d0887\"],[0.1111111111111111,\"#46039f\"],[0.2222222222222222,\"#7201a8\"],[0.3333333333333333,\"#9c179e\"],[0.4444444444444444,\"#bd3786\"],[0.5555555555555556,\"#d8576b\"],[0.6666666666666666,\"#ed7953\"],[0.7777777777777778,\"#fb9f3a\"],[0.8888888888888888,\"#fdca26\"],[1.0,\"#f0f921\"]]}],\"contourcarpet\":[{\"type\":\"contourcarpet\",\"colorbar\":{\"outlinewidth\":0,\"ticks\":\"\"}}],\"contour\":[{\"type\":\"contour\",\"colorbar\":{\"outlinewidth\":0,\"ticks\":\"\"},\"colorscale\":[[0.0,\"#0d0887\"],[0.1111111111111111,\"#46039f\"],[0.2222222222222222,\"#7201a8\"],[0.3333333333333333,\"#9c179e\"],[0.4444444444444444,\"#bd3786\"],[0.5555555555555556,\"#d8576b\"],[0.6666666666666666,\"#ed7953\"],[0.7777777777777778,\"#fb9f3a\"],[0.8888888888888888,\"#fdca26\"],[1.0,\"#f0f921\"]]}],\"surface\":[{\"type\":\"surface\",\"colorbar\":{\"outlinewidth\":0,\"ticks\":\"\"},\"colorscale\":[[0.0,\"#0d0887\"],[0.1111111111111111,\"#46039f\"],[0.2222222222222222,\"#7201a8\"],[0.3333333333333333,\"#9c179e\"],[0.4444444444444444,\"#bd3786\"],[0.5555555555555556,\"#d8576b\"],[0.6666666666666666,\"#ed7953\"],[0.7777777777777778,\"#fb9f3a\"],[0.8888888888888888,\"#fdca26\"],[1.0,\"#f0f921\"]]}],\"mesh3d\":[{\"type\":\"mesh3d\",\"colorbar\":{\"outlinewidth\":0,\"ticks\":\"\"}}],\"scatter\":[{\"fillpattern\":{\"fillmode\":\"overlay\",\"size\":10,\"solidity\":0.2},\"type\":\"scatter\"}],\"parcoords\":[{\"type\":\"parcoords\",\"line\":{\"colorbar\":{\"outlinewidth\":0,\"ticks\":\"\"}}}],\"scatterpolargl\":[{\"type\":\"scatterpolargl\",\"marker\":{\"colorbar\":{\"outlinewidth\":0,\"ticks\":\"\"}}}],\"bar\":[{\"error_x\":{\"color\":\"#2a3f5f\"},\"error_y\":{\"color\":\"#2a3f5f\"},\"marker\":{\"line\":{\"color\":\"#E5ECF6\",\"width\":0.5},\"pattern\":{\"fillmode\":\"overlay\",\"size\":10,\"solidity\":0.2}},\"type\":\"bar\"}],\"scattergeo\":[{\"type\":\"scattergeo\",\"marker\":{\"colorbar\":{\"outlinewidth\":0,\"ticks\":\"\"}}}],\"scatterpolar\":[{\"type\":\"scatterpolar\",\"marker\":{\"colorbar\":{\"outlinewidth\":0,\"ticks\":\"\"}}}],\"histogram\":[{\"marker\":{\"pattern\":{\"fillmode\":\"overlay\",\"size\":10,\"solidity\":0.2}},\"type\":\"histogram\"}],\"scattergl\":[{\"type\":\"scattergl\",\"marker\":{\"colorbar\":{\"outlinewidth\":0,\"ticks\":\"\"}}}],\"scatter3d\":[{\"type\":\"scatter3d\",\"line\":{\"colorbar\":{\"outlinewidth\":0,\"ticks\":\"\"}},\"marker\":{\"colorbar\":{\"outlinewidth\":0,\"ticks\":\"\"}}}],\"scattermapbox\":[{\"type\":\"scattermapbox\",\"marker\":{\"colorbar\":{\"outlinewidth\":0,\"ticks\":\"\"}}}],\"scatterternary\":[{\"type\":\"scatterternary\",\"marker\":{\"colorbar\":{\"outlinewidth\":0,\"ticks\":\"\"}}}],\"scattercarpet\":[{\"type\":\"scattercarpet\",\"marker\":{\"colorbar\":{\"outlinewidth\":0,\"ticks\":\"\"}}}],\"carpet\":[{\"aaxis\":{\"endlinecolor\":\"#2a3f5f\",\"gridcolor\":\"white\",\"linecolor\":\"white\",\"minorgridcolor\":\"white\",\"startlinecolor\":\"#2a3f5f\"},\"baxis\":{\"endlinecolor\":\"#2a3f5f\",\"gridcolor\":\"white\",\"linecolor\":\"white\",\"minorgridcolor\":\"white\",\"startlinecolor\":\"#2a3f5f\"},\"type\":\"carpet\"}],\"table\":[{\"cells\":{\"fill\":{\"color\":\"#EBF0F8\"},\"line\":{\"color\":\"white\"}},\"header\":{\"fill\":{\"color\":\"#C8D4E3\"},\"line\":{\"color\":\"white\"}},\"type\":\"table\"}],\"barpolar\":[{\"marker\":{\"line\":{\"color\":\"#E5ECF6\",\"width\":0.5},\"pattern\":{\"fillmode\":\"overlay\",\"size\":10,\"solidity\":0.2}},\"type\":\"barpolar\"}],\"pie\":[{\"automargin\":true,\"type\":\"pie\"}]},\"layout\":{\"autotypenumbers\":\"strict\",\"colorway\":[\"#636efa\",\"#EF553B\",\"#00cc96\",\"#ab63fa\",\"#FFA15A\",\"#19d3f3\",\"#FF6692\",\"#B6E880\",\"#FF97FF\",\"#FECB52\"],\"font\":{\"color\":\"#2a3f5f\"},\"hovermode\":\"closest\",\"hoverlabel\":{\"align\":\"left\"},\"paper_bgcolor\":\"white\",\"plot_bgcolor\":\"#E5ECF6\",\"polar\":{\"bgcolor\":\"#E5ECF6\",\"angularaxis\":{\"gridcolor\":\"white\",\"linecolor\":\"white\",\"ticks\":\"\"},\"radialaxis\":{\"gridcolor\":\"white\",\"linecolor\":\"white\",\"ticks\":\"\"}},\"ternary\":{\"bgcolor\":\"#E5ECF6\",\"aaxis\":{\"gridcolor\":\"white\",\"linecolor\":\"white\",\"ticks\":\"\"},\"baxis\":{\"gridcolor\":\"white\",\"linecolor\":\"white\",\"ticks\":\"\"},\"caxis\":{\"gridcolor\":\"white\",\"linecolor\":\"white\",\"ticks\":\"\"}},\"coloraxis\":{\"colorbar\":{\"outlinewidth\":0,\"ticks\":\"\"}},\"colorscale\":{\"sequential\":[[0.0,\"#0d0887\"],[0.1111111111111111,\"#46039f\"],[0.2222222222222222,\"#7201a8\"],[0.3333333333333333,\"#9c179e\"],[0.4444444444444444,\"#bd3786\"],[0.5555555555555556,\"#d8576b\"],[0.6666666666666666,\"#ed7953\"],[0.7777777777777778,\"#fb9f3a\"],[0.8888888888888888,\"#fdca26\"],[1.0,\"#f0f921\"]],\"sequentialminus\":[[0.0,\"#0d0887\"],[0.1111111111111111,\"#46039f\"],[0.2222222222222222,\"#7201a8\"],[0.3333333333333333,\"#9c179e\"],[0.4444444444444444,\"#bd3786\"],[0.5555555555555556,\"#d8576b\"],[0.6666666666666666,\"#ed7953\"],[0.7777777777777778,\"#fb9f3a\"],[0.8888888888888888,\"#fdca26\"],[1.0,\"#f0f921\"]],\"diverging\":[[0,\"#8e0152\"],[0.1,\"#c51b7d\"],[0.2,\"#de77ae\"],[0.3,\"#f1b6da\"],[0.4,\"#fde0ef\"],[0.5,\"#f7f7f7\"],[0.6,\"#e6f5d0\"],[0.7,\"#b8e186\"],[0.8,\"#7fbc41\"],[0.9,\"#4d9221\"],[1,\"#276419\"]]},\"xaxis\":{\"gridcolor\":\"white\",\"linecolor\":\"white\",\"ticks\":\"\",\"title\":{\"standoff\":15},\"zerolinecolor\":\"white\",\"automargin\":true,\"zerolinewidth\":2},\"yaxis\":{\"gridcolor\":\"white\",\"linecolor\":\"white\",\"ticks\":\"\",\"title\":{\"standoff\":15},\"zerolinecolor\":\"white\",\"automargin\":true,\"zerolinewidth\":2},\"scene\":{\"xaxis\":{\"backgroundcolor\":\"#E5ECF6\",\"gridcolor\":\"white\",\"linecolor\":\"white\",\"showbackground\":true,\"ticks\":\"\",\"zerolinecolor\":\"white\",\"gridwidth\":2},\"yaxis\":{\"backgroundcolor\":\"#E5ECF6\",\"gridcolor\":\"white\",\"linecolor\":\"white\",\"showbackground\":true,\"ticks\":\"\",\"zerolinecolor\":\"white\",\"gridwidth\":2},\"zaxis\":{\"backgroundcolor\":\"#E5ECF6\",\"gridcolor\":\"white\",\"linecolor\":\"white\",\"showbackground\":true,\"ticks\":\"\",\"zerolinecolor\":\"white\",\"gridwidth\":2}},\"shapedefaults\":{\"line\":{\"color\":\"#2a3f5f\"}},\"annotationdefaults\":{\"arrowcolor\":\"#2a3f5f\",\"arrowhead\":0,\"arrowwidth\":1},\"geo\":{\"bgcolor\":\"white\",\"landcolor\":\"#E5ECF6\",\"subunitcolor\":\"white\",\"showland\":true,\"showlakes\":true,\"lakecolor\":\"white\"},\"title\":{\"x\":0.05},\"mapbox\":{\"style\":\"light\"}}},\"coloraxis\":{\"colorbar\":{\"title\":{\"text\":\"confidence\"}},\"colorscale\":[[0.0,\"#0d0887\"],[0.1111111111111111,\"#46039f\"],[0.2222222222222222,\"#7201a8\"],[0.3333333333333333,\"#9c179e\"],[0.4444444444444444,\"#bd3786\"],[0.5555555555555556,\"#d8576b\"],[0.6666666666666666,\"#ed7953\"],[0.7777777777777778,\"#fb9f3a\"],[0.8888888888888888,\"#fdca26\"],[1.0,\"#f0f921\"]]},\"legend\":{\"tracegroupgap\":0},\"margin\":{\"t\":60}},                        {\"responsive\": true}                    ).then(function(){\n",
       "                            \n",
       "var gd = document.getElementById('4c1464ea-769b-4180-9a36-a217ef871b3c');\n",
       "var x = new MutationObserver(function (mutations, observer) {{\n",
       "        var display = window.getComputedStyle(gd).display;\n",
       "        if (!display || display === 'none') {{\n",
       "            console.log([gd, 'removed!']);\n",
       "            Plotly.purge(gd);\n",
       "            observer.disconnect();\n",
       "        }}\n",
       "}});\n",
       "\n",
       "// Listen for the removal of the full notebook cells\n",
       "var notebookContainer = gd.closest('#notebook-container');\n",
       "if (notebookContainer) {{\n",
       "    x.observe(notebookContainer, {childList: true});\n",
       "}}\n",
       "\n",
       "// Listen for the clearing of the current output cell\n",
       "var outputEl = gd.closest('.output');\n",
       "if (outputEl) {{\n",
       "    x.observe(outputEl, {childList: true});\n",
       "}}\n",
       "\n",
       "                        })                };                });            </script>        </div>"
      ]
     },
     "metadata": {},
     "output_type": "display_data"
    }
   ],
   "source": [
    "fig = px.parallel_categories(filtered_rules, dimensions = ['antecedents', 'consequents', 'confidence'],\n",
    "                             color = 'confidence')\n",
    "fig.show()"
   ]
  },
  {
   "cell_type": "code",
   "execution_count": 62,
   "id": "5f3ebfb3",
   "metadata": {},
   "outputs": [],
   "source": [
    "import networkx as nx"
   ]
  },
  {
   "cell_type": "code",
   "execution_count": 70,
   "id": "67f51526",
   "metadata": {},
   "outputs": [
    {
     "data": {
      "image/png": "[encoded data removed]",
      "text/plain": [
       "<Figure size 720x576 with 1 Axes>"
      ]
     },
     "metadata": {},
     "output_type": "display_data"
    }
   ],
   "source": [
    "plt.figure(figsize=(10,8))\n",
    "GA = nx.from_pandas_edgelist(filtered_rules, source = 'antecedents', target = 'consequents')\n",
    "nx.draw(GA, with_labels = True)\n",
    "plt.show()"
   ]
  },
  {
   "cell_type": "code",
   "execution_count": null,
   "id": "de512a4b",
   "metadata": {},
   "outputs": [],
   "source": []
  }
 ],
 "metadata": {
  "kernelspec": {
   "display_name": "Python 3",
   "language": "python",
   "name": "python3"
  },
  "language_info": {
   "codemirror_mode": {
    "name": "ipython",
    "version": 3
   },
   "file_extension": ".py",
   "mimetype": "text/x-python",
   "name": "python",
   "nbconvert_exporter": "python",
   "pygments_lexer": "ipython3",
   "version": "3.8.8"
  }
 },
 "nbformat": 4,
 "nbformat_minor": 5
}
